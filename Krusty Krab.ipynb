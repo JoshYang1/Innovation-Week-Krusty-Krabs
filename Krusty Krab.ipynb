{
 "cells": [
  {
   "cell_type": "code",
   "execution_count": 31,
   "id": "2fbd2292",
   "metadata": {},
   "outputs": [],
   "source": [
    "import pandas as pd\n",
    "import matplotlib.pyplot as plt\n",
    "import numpy as np"
   ]
  },
  {
   "cell_type": "code",
   "execution_count": 32,
   "id": "ab5ef634",
   "metadata": {},
   "outputs": [],
   "source": [
    "scotrail = pd.read_csv('Datasets/scotrail-journey-data-2016-2022.csv')"
   ]
  },
  {
   "cell_type": "code",
   "execution_count": 33,
   "id": "a7fc0242",
   "metadata": {},
   "outputs": [
    {
     "data": {
      "text/html": [
       "<div>\n",
       "<style scoped>\n",
       "    .dataframe tbody tr th:only-of-type {\n",
       "        vertical-align: middle;\n",
       "    }\n",
       "\n",
       "    .dataframe tbody tr th {\n",
       "        vertical-align: top;\n",
       "    }\n",
       "\n",
       "    .dataframe thead th {\n",
       "        text-align: right;\n",
       "    }\n",
       "</style>\n",
       "<table border=\"1\" class=\"dataframe\">\n",
       "  <thead>\n",
       "    <tr style=\"text-align: right;\">\n",
       "      <th></th>\n",
       "      <th>CalendarYear</th>\n",
       "      <th>CalendarPeriod</th>\n",
       "      <th>CalendarWeek</th>\n",
       "      <th>ServiceGroup4</th>\n",
       "      <th>ProdGrp1</th>\n",
       "      <th>OpJourneys on selDates</th>\n",
       "      <th>OpMiles on selDates</th>\n",
       "      <th>Unnamed: 7</th>\n",
       "    </tr>\n",
       "  </thead>\n",
       "  <tbody>\n",
       "    <tr>\n",
       "      <th>0</th>\n",
       "      <td>2016</td>\n",
       "      <td>2016/P01</td>\n",
       "      <td>2016/W01</td>\n",
       "      <td>East Suburban</td>\n",
       "      <td>Commuter</td>\n",
       "      <td>68,625</td>\n",
       "      <td>1,163,739</td>\n",
       "      <td>NaN</td>\n",
       "    </tr>\n",
       "    <tr>\n",
       "      <th>1</th>\n",
       "      <td>2016</td>\n",
       "      <td>2016/P01</td>\n",
       "      <td>2016/W01</td>\n",
       "      <td>eXpress</td>\n",
       "      <td>Commuter</td>\n",
       "      <td>33,695</td>\n",
       "      <td>953,075</td>\n",
       "      <td>NaN</td>\n",
       "    </tr>\n",
       "    <tr>\n",
       "      <th>2</th>\n",
       "      <td>2016</td>\n",
       "      <td>2016/P01</td>\n",
       "      <td>2016/W01</td>\n",
       "      <td>Inter7City</td>\n",
       "      <td>Commuter</td>\n",
       "      <td>27,651</td>\n",
       "      <td>757,075</td>\n",
       "      <td>NaN</td>\n",
       "    </tr>\n",
       "    <tr>\n",
       "      <th>3</th>\n",
       "      <td>2016</td>\n",
       "      <td>2016/P01</td>\n",
       "      <td>2016/W01</td>\n",
       "      <td>Scenic</td>\n",
       "      <td>Commuter</td>\n",
       "      <td>9,806</td>\n",
       "      <td>180,878</td>\n",
       "      <td>NaN</td>\n",
       "    </tr>\n",
       "    <tr>\n",
       "      <th>4</th>\n",
       "      <td>2016</td>\n",
       "      <td>2016/P01</td>\n",
       "      <td>2016/W01</td>\n",
       "      <td>West Suburban</td>\n",
       "      <td>Commuter</td>\n",
       "      <td>302,609</td>\n",
       "      <td>3,303,754</td>\n",
       "      <td>NaN</td>\n",
       "    </tr>\n",
       "  </tbody>\n",
       "</table>\n",
       "</div>"
      ],
      "text/plain": [
       "   CalendarYear CalendarPeriod CalendarWeek  ServiceGroup4  ProdGrp1  \\\n",
       "0          2016       2016/P01     2016/W01  East Suburban  Commuter   \n",
       "1          2016       2016/P01     2016/W01        eXpress  Commuter   \n",
       "2          2016       2016/P01     2016/W01     Inter7City  Commuter   \n",
       "3          2016       2016/P01     2016/W01         Scenic  Commuter   \n",
       "4          2016       2016/P01     2016/W01  West Suburban  Commuter   \n",
       "\n",
       "  OpJourneys on selDates OpMiles on selDates  Unnamed: 7  \n",
       "0                 68,625           1,163,739         NaN  \n",
       "1                 33,695             953,075         NaN  \n",
       "2                 27,651             757,075         NaN  \n",
       "3                  9,806             180,878         NaN  \n",
       "4                302,609           3,303,754         NaN  "
      ]
     },
     "execution_count": 33,
     "metadata": {},
     "output_type": "execute_result"
    }
   ],
   "source": [
    "scotrail.head()"
   ]
  },
  {
   "cell_type": "code",
   "execution_count": 34,
   "id": "6745bfa3",
   "metadata": {},
   "outputs": [],
   "source": [
    "\n",
    "scotrail[\"OpJourneys on selDates\"] = scotrail[\"OpJourneys on selDates\"].replace(',','', regex=True)\n",
    "scotrail[\"OpJourneys on selDates\"] = scotrail[\"OpJourneys on selDates\"].astype('int')"
   ]
  },
  {
   "cell_type": "code",
   "execution_count": 35,
   "id": "58ccc8a0",
   "metadata": {},
   "outputs": [
    {
     "data": {
      "text/html": [
       "<div>\n",
       "<style scoped>\n",
       "    .dataframe tbody tr th:only-of-type {\n",
       "        vertical-align: middle;\n",
       "    }\n",
       "\n",
       "    .dataframe tbody tr th {\n",
       "        vertical-align: top;\n",
       "    }\n",
       "\n",
       "    .dataframe thead th {\n",
       "        text-align: right;\n",
       "    }\n",
       "</style>\n",
       "<table border=\"1\" class=\"dataframe\">\n",
       "  <thead>\n",
       "    <tr style=\"text-align: right;\">\n",
       "      <th></th>\n",
       "      <th>ServiceGroup4</th>\n",
       "      <th>CalendarPeriod</th>\n",
       "      <th>OpJourneys on selDates</th>\n",
       "    </tr>\n",
       "  </thead>\n",
       "  <tbody>\n",
       "    <tr>\n",
       "      <th>0</th>\n",
       "      <td>East Suburban</td>\n",
       "      <td>2016/P01</td>\n",
       "      <td>1002385</td>\n",
       "    </tr>\n",
       "    <tr>\n",
       "      <th>1</th>\n",
       "      <td>East Suburban</td>\n",
       "      <td>2016/P02</td>\n",
       "      <td>841188</td>\n",
       "    </tr>\n",
       "    <tr>\n",
       "      <th>2</th>\n",
       "      <td>East Suburban</td>\n",
       "      <td>2016/P03</td>\n",
       "      <td>752603</td>\n",
       "    </tr>\n",
       "    <tr>\n",
       "      <th>3</th>\n",
       "      <td>East Suburban</td>\n",
       "      <td>2016/P04</td>\n",
       "      <td>877365</td>\n",
       "    </tr>\n",
       "    <tr>\n",
       "      <th>4</th>\n",
       "      <td>East Suburban</td>\n",
       "      <td>2016/P05</td>\n",
       "      <td>836859</td>\n",
       "    </tr>\n",
       "    <tr>\n",
       "      <th>...</th>\n",
       "      <td>...</td>\n",
       "      <td>...</td>\n",
       "      <td>...</td>\n",
       "    </tr>\n",
       "    <tr>\n",
       "      <th>400</th>\n",
       "      <td>eXpress</td>\n",
       "      <td>2021/P12</td>\n",
       "      <td>414883</td>\n",
       "    </tr>\n",
       "    <tr>\n",
       "      <th>401</th>\n",
       "      <td>eXpress</td>\n",
       "      <td>2021/P13</td>\n",
       "      <td>186402</td>\n",
       "    </tr>\n",
       "    <tr>\n",
       "      <th>402</th>\n",
       "      <td>eXpress</td>\n",
       "      <td>2022/P01</td>\n",
       "      <td>299867</td>\n",
       "    </tr>\n",
       "    <tr>\n",
       "      <th>403</th>\n",
       "      <td>eXpress</td>\n",
       "      <td>2022/P02</td>\n",
       "      <td>337312</td>\n",
       "    </tr>\n",
       "    <tr>\n",
       "      <th>404</th>\n",
       "      <td>eXpress</td>\n",
       "      <td>2022/P03</td>\n",
       "      <td>337260</td>\n",
       "    </tr>\n",
       "  </tbody>\n",
       "</table>\n",
       "<p>405 rows × 3 columns</p>\n",
       "</div>"
      ],
      "text/plain": [
       "     ServiceGroup4 CalendarPeriod  OpJourneys on selDates\n",
       "0    East Suburban       2016/P01                 1002385\n",
       "1    East Suburban       2016/P02                  841188\n",
       "2    East Suburban       2016/P03                  752603\n",
       "3    East Suburban       2016/P04                  877365\n",
       "4    East Suburban       2016/P05                  836859\n",
       "..             ...            ...                     ...\n",
       "400        eXpress       2021/P12                  414883\n",
       "401        eXpress       2021/P13                  186402\n",
       "402        eXpress       2022/P01                  299867\n",
       "403        eXpress       2022/P02                  337312\n",
       "404        eXpress       2022/P03                  337260\n",
       "\n",
       "[405 rows x 3 columns]"
      ]
     },
     "execution_count": 35,
     "metadata": {},
     "output_type": "execute_result"
    }
   ],
   "source": [
    "df = scotrail.groupby(['ServiceGroup4','CalendarPeriod'])['OpJourneys on selDates'].sum().reset_index()\n",
    "df"
   ]
  },
  {
   "cell_type": "code",
   "execution_count": 36,
   "id": "6123947d",
   "metadata": {},
   "outputs": [
    {
     "data": {
      "text/html": [
       "<div>\n",
       "<style scoped>\n",
       "    .dataframe tbody tr th:only-of-type {\n",
       "        vertical-align: middle;\n",
       "    }\n",
       "\n",
       "    .dataframe tbody tr th {\n",
       "        vertical-align: top;\n",
       "    }\n",
       "\n",
       "    .dataframe thead th {\n",
       "        text-align: right;\n",
       "    }\n",
       "</style>\n",
       "<table border=\"1\" class=\"dataframe\">\n",
       "  <thead>\n",
       "    <tr style=\"text-align: right;\">\n",
       "      <th></th>\n",
       "      <th>ServiceGroup4</th>\n",
       "      <th>CalendarPeriod</th>\n",
       "      <th>OpJourneys on selDates</th>\n",
       "    </tr>\n",
       "  </thead>\n",
       "  <tbody>\n",
       "    <tr>\n",
       "      <th>162</th>\n",
       "      <td>Scenic</td>\n",
       "      <td>2016/P01</td>\n",
       "      <td>288862</td>\n",
       "    </tr>\n",
       "    <tr>\n",
       "      <th>163</th>\n",
       "      <td>Scenic</td>\n",
       "      <td>2016/P02</td>\n",
       "      <td>258091</td>\n",
       "    </tr>\n",
       "    <tr>\n",
       "      <th>164</th>\n",
       "      <td>Scenic</td>\n",
       "      <td>2016/P03</td>\n",
       "      <td>238673</td>\n",
       "    </tr>\n",
       "    <tr>\n",
       "      <th>165</th>\n",
       "      <td>Scenic</td>\n",
       "      <td>2016/P04</td>\n",
       "      <td>289722</td>\n",
       "    </tr>\n",
       "    <tr>\n",
       "      <th>166</th>\n",
       "      <td>Scenic</td>\n",
       "      <td>2016/P05</td>\n",
       "      <td>278445</td>\n",
       "    </tr>\n",
       "    <tr>\n",
       "      <th>...</th>\n",
       "      <td>...</td>\n",
       "      <td>...</td>\n",
       "      <td>...</td>\n",
       "    </tr>\n",
       "    <tr>\n",
       "      <th>238</th>\n",
       "      <td>Scenic</td>\n",
       "      <td>2021/P12</td>\n",
       "      <td>186145</td>\n",
       "    </tr>\n",
       "    <tr>\n",
       "      <th>239</th>\n",
       "      <td>Scenic</td>\n",
       "      <td>2021/P13</td>\n",
       "      <td>92853</td>\n",
       "    </tr>\n",
       "    <tr>\n",
       "      <th>240</th>\n",
       "      <td>Scenic</td>\n",
       "      <td>2022/P01</td>\n",
       "      <td>166440</td>\n",
       "    </tr>\n",
       "    <tr>\n",
       "      <th>241</th>\n",
       "      <td>Scenic</td>\n",
       "      <td>2022/P02</td>\n",
       "      <td>176517</td>\n",
       "    </tr>\n",
       "    <tr>\n",
       "      <th>242</th>\n",
       "      <td>Scenic</td>\n",
       "      <td>2022/P03</td>\n",
       "      <td>179742</td>\n",
       "    </tr>\n",
       "  </tbody>\n",
       "</table>\n",
       "<p>81 rows × 3 columns</p>\n",
       "</div>"
      ],
      "text/plain": [
       "    ServiceGroup4 CalendarPeriod  OpJourneys on selDates\n",
       "162        Scenic       2016/P01                  288862\n",
       "163        Scenic       2016/P02                  258091\n",
       "164        Scenic       2016/P03                  238673\n",
       "165        Scenic       2016/P04                  289722\n",
       "166        Scenic       2016/P05                  278445\n",
       "..            ...            ...                     ...\n",
       "238        Scenic       2021/P12                  186145\n",
       "239        Scenic       2021/P13                   92853\n",
       "240        Scenic       2022/P01                  166440\n",
       "241        Scenic       2022/P02                  176517\n",
       "242        Scenic       2022/P03                  179742\n",
       "\n",
       "[81 rows x 3 columns]"
      ]
     },
     "execution_count": 36,
     "metadata": {},
     "output_type": "execute_result"
    }
   ],
   "source": [
    "df2 = df[df[\"ServiceGroup4\"] == 'Scenic']\n",
    "df2"
   ]
  },
  {
   "cell_type": "code",
   "execution_count": 37,
   "id": "35b9781d",
   "metadata": {},
   "outputs": [
    {
     "data": {
      "image/png": "[encoded data removed]",
      "text/plain": [
       "<Figure size 432x288 with 1 Axes>"
      ]
     },
     "metadata": {
      "needs_background": "light"
     },
     "output_type": "display_data"
    }
   ],
   "source": [
    "plt.plot( 'CalendarPeriod', 'OpJourneys on selDates', data=df2, marker='', color='olive', linewidth=2);"
   ]
  },
  {
   "cell_type": "code",
   "execution_count": 71,
   "id": "6871eddb",
   "metadata": {},
   "outputs": [],
   "source": [
    "journeys = df['OpJourneys on selDates']\n",
    "service = df['ServiceGroup4']"
   ]
  },
  {
   "cell_type": "code",
   "execution_count": 39,
   "id": "0bd94b5c",
   "metadata": {},
   "outputs": [
    {
     "data": {
      "image/png": "[encoded data removed]",
      "text/plain": [
       "<Figure size 432x288 with 1 Axes>"
      ]
     },
     "metadata": {
      "needs_background": "light"
     },
     "output_type": "display_data"
    }
   ],
   "source": [
    "plt.bar(service,journeys);"
   ]
  },
  {
   "cell_type": "code",
   "execution_count": 40,
   "id": "39983796",
   "metadata": {},
   "outputs": [],
   "source": [
    "scotrail[\"OpJourneys on selDates\"] = scotrail[\"OpJourneys on selDates\"].replace(',','', regex=True)\n",
    "scotrail[\"OpJourneys on selDates\"] = scotrail[\"OpJourneys on selDates\"].astype('int')\n",
    "\n",
    "scotrail[\"OpMiles on selDates\"] = scotrail[\"OpMiles on selDates\"].replace(',','', regex=True)\n",
    "scotrail[\"OpMiles on selDates\"] = scotrail[\"OpMiles on selDates\"].astype('int')\n",
    "\n",
    "scotrail[\"milesdivjourney\"] = scotrail[\"OpMiles on selDates\"] / scotrail[\"OpJourneys on selDates\"]"
   ]
  },
  {
   "cell_type": "code",
   "execution_count": 41,
   "id": "5f02a680",
   "metadata": {},
   "outputs": [
    {
     "data": {
      "text/plain": [
       "<bound method NDFrame.head of       CalendarYear CalendarPeriod CalendarWeek  ServiceGroup4  ProdGrp1  \\\n",
       "0             2016       2016/P01     2016/W01  East Suburban  Commuter   \n",
       "1             2016       2016/P01     2016/W01        eXpress  Commuter   \n",
       "2             2016       2016/P01     2016/W01     Inter7City  Commuter   \n",
       "3             2016       2016/P01     2016/W01         Scenic  Commuter   \n",
       "4             2016       2016/P01     2016/W01  West Suburban  Commuter   \n",
       "...            ...            ...          ...            ...       ...   \n",
       "4870          2022       2022/P03     2022/W13  East Suburban      Peak   \n",
       "4871          2022       2022/P03     2022/W13        eXpress      Peak   \n",
       "4872          2022       2022/P03     2022/W13     Inter7City      Peak   \n",
       "4873          2022       2022/P03     2022/W13         Scenic      Peak   \n",
       "4874          2022       2022/P03     2022/W13  West Suburban      Peak   \n",
       "\n",
       "      OpJourneys on selDates  OpMiles on selDates  Unnamed: 7  milesdivjourney  \n",
       "0                      68625              1163739         NaN        16.957945  \n",
       "1                      33695               953075         NaN        28.285354  \n",
       "2                      27651               757075         NaN        27.379661  \n",
       "3                       9806               180878         NaN        18.445646  \n",
       "4                     302609              3303754         NaN        10.917567  \n",
       "...                      ...                  ...         ...              ...  \n",
       "4870                   40874               765995         NaN        18.740397  \n",
       "4871                   20389               692101         NaN        33.944823  \n",
       "4872                   30408              1492769         NaN        49.091325  \n",
       "4873                   13488               448765         NaN        33.271426  \n",
       "4874                  165319              2034975         NaN        12.309384  \n",
       "\n",
       "[4875 rows x 9 columns]>"
      ]
     },
     "execution_count": 41,
     "metadata": {},
     "output_type": "execute_result"
    }
   ],
   "source": [
    "scotrail.head"
   ]
  },
  {
   "cell_type": "code",
   "execution_count": 42,
   "id": "2755e7d6",
   "metadata": {},
   "outputs": [
    {
     "data": {
      "text/plain": [
       "96.51901624033623"
      ]
     },
     "execution_count": 42,
     "metadata": {},
     "output_type": "execute_result"
    }
   ],
   "source": [
    "np.max(scotrail[\"milesdivjourney\"])"
   ]
  },
  {
   "cell_type": "code",
   "execution_count": 78,
   "id": "bb6a8ff3",
   "metadata": {},
   "outputs": [
    {
     "data": {
      "image/png": "[encoded data removed]",
      "text/plain": [
       "<Figure size 432x288 with 1 Axes>"
      ]
     },
     "metadata": {
      "needs_background": "light"
     },
     "output_type": "display_data"
    }
   ],
   "source": [
    "# What are the main reasons of Scottish locals for not using the train?\n",
    "\n",
    "train_discourage = pd.read_csv('Datasets/train_discourage.csv')\n",
    "train_discourage.rename(columns = {'Table 42: In general, What discourages you from using the train more often than you do? (2012-2014, 2016, 2019)1,2':'Question', 'Unnamed: 1':'2012', 'Unnamed: 2':'2013', 'Unnamed: 3':'2014', 'Unnamed: 4':'2015', 'Unnamed: 5':'2016','Unnamed: 6':'2017', 'Unnamed: 7':'2018', 'Unnamed: 8':'2019', 'Unnamed: 9':'2020'}, inplace = True)\n",
    "\n",
    "# In general, What discourages you from using the train more often than you do?\n",
    "\n",
    "train_discourage = train_discourage.drop(train_discourage.index[33])\n",
    "train_discourage = train_discourage.drop(train_discourage.index[32])\n",
    "train_discourage = train_discourage.drop(train_discourage.index[31])\n",
    "train_discourage = train_discourage.drop(train_discourage.index[30])\n",
    "train_discourage = train_discourage.drop(train_discourage.index[0])\n",
    "\n",
    "train_discourage_selection = train_discourage.iloc[:, [0,1,8]]\n",
    "train_discourage_selection = train_discourage_selection.iloc[[0,1,7,16],:]\n",
    "\n",
    "train_discourage_selection['2012']=train_discourage_selection['2012'].astype(float)\n",
    "train_discourage_selection['2019']=train_discourage_selection['2019'].astype(float)\n",
    "\n",
    "train_discourage_selection.plot(x=\"Question\", y=[\"2012\", \"2019\"], kind=\"bar\", color=[\"coral\", \"cornflowerblue\"]);"
   ]
  },
  {
   "cell_type": "code",
   "execution_count": null,
   "id": "4055f761",
   "metadata": {},
   "outputs": [],
   "source": [
    "local_train_view = pd.read_csv('Datasets/local_train_views.csv')"
   ]
  },
  {
   "cell_type": "code",
   "execution_count": 84,
   "id": "e14626ea",
   "metadata": {},
   "outputs": [
    {
     "data": {
      "text/html": [
       "<div>\n",
       "<style scoped>\n",
       "    .dataframe tbody tr th:only-of-type {\n",
       "        vertical-align: middle;\n",
       "    }\n",
       "\n",
       "    .dataframe tbody tr th {\n",
       "        vertical-align: top;\n",
       "    }\n",
       "\n",
       "    .dataframe thead th {\n",
       "        text-align: right;\n",
       "    }\n",
       "</style>\n",
       "<table border=\"1\" class=\"dataframe\">\n",
       "  <thead>\n",
       "    <tr style=\"text-align: right;\">\n",
       "      <th></th>\n",
       "      <th>Entity</th>\n",
       "      <th>GHG emissions (gCO2e/km)</th>\n",
       "    </tr>\n",
       "  </thead>\n",
       "  <tbody>\n",
       "    <tr>\n",
       "      <th>11</th>\n",
       "      <td>Large car (petrol)</td>\n",
       "      <td>282.95</td>\n",
       "    </tr>\n",
       "    <tr>\n",
       "      <th>5</th>\n",
       "      <td>Domestic flight</td>\n",
       "      <td>254.93</td>\n",
       "    </tr>\n",
       "    <tr>\n",
       "      <th>1</th>\n",
       "      <td>Bus</td>\n",
       "      <td>104.71</td>\n",
       "    </tr>\n",
       "    <tr>\n",
       "      <th>28</th>\n",
       "      <td>National rail</td>\n",
       "      <td>41.15</td>\n",
       "    </tr>\n",
       "  </tbody>\n",
       "</table>\n",
       "</div>"
      ],
      "text/plain": [
       "                Entity  GHG emissions (gCO2e/km)\n",
       "11  Large car (petrol)                    282.95\n",
       "5      Domestic flight                    254.93\n",
       "1                  Bus                    104.71\n",
       "28       National rail                     41.15"
      ]
     },
     "execution_count": 84,
     "metadata": {},
     "output_type": "execute_result"
    }
   ],
   "source": [
    "\n",
    "carbon_ds = pd.read_csv('Datasets/carbon-footprint-travel-mode.csv', dtype = str)\n",
    "carbon_ds = carbon_ds.drop(['Code', 'Year'], 1)\n",
    "carbon_ds['GHG emissions (gCO2e/km)'] = carbon_ds['GHG emissions (gCO2e/km)'].astype(float).round(2)\n",
    "carbon_ds = carbon_ds.sort_values(by=[\"GHG emissions (gCO2e/km)\"], ascending=False)\n",
    "travel = ['Domestic flight', 'Large car (petrol)', 'Bus', 'National rail' ]\n",
    "carbon_ds = carbon_ds.loc[carbon_ds['Entity'].isin(travel)]\n",
    "carbon_ds"
   ]
  },
  {
   "cell_type": "code",
   "execution_count": 86,
   "id": "63fa7ebc",
   "metadata": {},
   "outputs": [
    {
     "data": {
      "image/png": "[encoded data removed]",
      "text/plain": [
       "<Figure size 432x288 with 1 Axes>"
      ]
     },
     "metadata": {},
     "output_type": "display_data"
    }
   ],
   "source": [
    "plt.pie(carbon_ds['GHG emissions (gCO2e/km)'], labels = carbon_ds[\"Entity\"])\n",
    "plt.show()"
   ]
  }
 ],
 "metadata": {
  "kernelspec": {
   "display_name": "Python 3",
   "language": "python",
   "name": "python3"
  },
  "language_info": {
   "codemirror_mode": {
    "name": "ipython",
    "version": 3
   },
   "file_extension": ".py",
   "mimetype": "text/x-python",
   "name": "python",
   "nbconvert_exporter": "python",
   "pygments_lexer": "ipython3",
   "version": "3.8.8"
  }
 },
 "nbformat": 4,
 "nbformat_minor": 5
}
