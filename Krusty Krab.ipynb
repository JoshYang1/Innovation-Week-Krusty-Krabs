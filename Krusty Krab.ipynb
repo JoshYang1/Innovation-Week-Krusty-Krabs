{
 "cells": [
  {
   "cell_type": "code",
   "execution_count": 111,
   "id": "2fbd2292",
   "metadata": {},
   "outputs": [],
   "source": [
    "import pandas as pd\n",
    "import matplotlib.pyplot as plt\n",
    "import numpy as np"
   ]
  },
  {
   "cell_type": "code",
   "execution_count": 32,
   "id": "ab5ef634",
   "metadata": {},
   "outputs": [],
   "source": [
    "scotrail = pd.read_csv('Datasets/scotrail-journey-data-2016-2022.csv')"
   ]
  },
  {
   "cell_type": "code",
   "execution_count": 33,
   "id": "a7fc0242",
   "metadata": {},
   "outputs": [
    {
     "data": {
      "text/html": [
       "<div>\n",
       "<style scoped>\n",
       "    .dataframe tbody tr th:only-of-type {\n",
       "        vertical-align: middle;\n",
       "    }\n",
       "\n",
       "    .dataframe tbody tr th {\n",
       "        vertical-align: top;\n",
       "    }\n",
       "\n",
       "    .dataframe thead th {\n",
       "        text-align: right;\n",
       "    }\n",
       "</style>\n",
       "<table border=\"1\" class=\"dataframe\">\n",
       "  <thead>\n",
       "    <tr style=\"text-align: right;\">\n",
       "      <th></th>\n",
       "      <th>CalendarYear</th>\n",
       "      <th>CalendarPeriod</th>\n",
       "      <th>CalendarWeek</th>\n",
       "      <th>ServiceGroup4</th>\n",
       "      <th>ProdGrp1</th>\n",
       "      <th>OpJourneys on selDates</th>\n",
       "      <th>OpMiles on selDates</th>\n",
       "      <th>Unnamed: 7</th>\n",
       "    </tr>\n",
       "  </thead>\n",
       "  <tbody>\n",
       "    <tr>\n",
       "      <th>0</th>\n",
       "      <td>2016</td>\n",
       "      <td>2016/P01</td>\n",
       "      <td>2016/W01</td>\n",
       "      <td>East Suburban</td>\n",
       "      <td>Commuter</td>\n",
       "      <td>68,625</td>\n",
       "      <td>1,163,739</td>\n",
       "      <td>NaN</td>\n",
       "    </tr>\n",
       "    <tr>\n",
       "      <th>1</th>\n",
       "      <td>2016</td>\n",
       "      <td>2016/P01</td>\n",
       "      <td>2016/W01</td>\n",
       "      <td>eXpress</td>\n",
       "      <td>Commuter</td>\n",
       "      <td>33,695</td>\n",
       "      <td>953,075</td>\n",
       "      <td>NaN</td>\n",
       "    </tr>\n",
       "    <tr>\n",
       "      <th>2</th>\n",
       "      <td>2016</td>\n",
       "      <td>2016/P01</td>\n",
       "      <td>2016/W01</td>\n",
       "      <td>Inter7City</td>\n",
       "      <td>Commuter</td>\n",
       "      <td>27,651</td>\n",
       "      <td>757,075</td>\n",
       "      <td>NaN</td>\n",
       "    </tr>\n",
       "    <tr>\n",
       "      <th>3</th>\n",
       "      <td>2016</td>\n",
       "      <td>2016/P01</td>\n",
       "      <td>2016/W01</td>\n",
       "      <td>Scenic</td>\n",
       "      <td>Commuter</td>\n",
       "      <td>9,806</td>\n",
       "      <td>180,878</td>\n",
       "      <td>NaN</td>\n",
       "    </tr>\n",
       "    <tr>\n",
       "      <th>4</th>\n",
       "      <td>2016</td>\n",
       "      <td>2016/P01</td>\n",
       "      <td>2016/W01</td>\n",
       "      <td>West Suburban</td>\n",
       "      <td>Commuter</td>\n",
       "      <td>302,609</td>\n",
       "      <td>3,303,754</td>\n",
       "      <td>NaN</td>\n",
       "    </tr>\n",
       "  </tbody>\n",
       "</table>\n",
       "</div>"
      ],
      "text/plain": [
       "   CalendarYear CalendarPeriod CalendarWeek  ServiceGroup4  ProdGrp1  \\\n",
       "0          2016       2016/P01     2016/W01  East Suburban  Commuter   \n",
       "1          2016       2016/P01     2016/W01        eXpress  Commuter   \n",
       "2          2016       2016/P01     2016/W01     Inter7City  Commuter   \n",
       "3          2016       2016/P01     2016/W01         Scenic  Commuter   \n",
       "4          2016       2016/P01     2016/W01  West Suburban  Commuter   \n",
       "\n",
       "  OpJourneys on selDates OpMiles on selDates  Unnamed: 7  \n",
       "0                 68,625           1,163,739         NaN  \n",
       "1                 33,695             953,075         NaN  \n",
       "2                 27,651             757,075         NaN  \n",
       "3                  9,806             180,878         NaN  \n",
       "4                302,609           3,303,754         NaN  "
      ]
     },
     "execution_count": 33,
     "metadata": {},
     "output_type": "execute_result"
    }
   ],
   "source": [
    "scotrail.head()"
   ]
  },
  {
   "cell_type": "code",
   "execution_count": 34,
   "id": "6745bfa3",
   "metadata": {},
   "outputs": [],
   "source": [
    "scotrail[\"OpJourneys on selDates\"] = scotrail[\"OpJourneys on selDates\"].replace(',','', regex=True)\n",
    "scotrail[\"OpJourneys on selDates\"] = scotrail[\"OpJourneys on selDates\"].astype('int')"
   ]
  },
  {
   "cell_type": "code",
   "execution_count": 125,
   "id": "58ccc8a0",
   "metadata": {},
   "outputs": [
    {
     "data": {
      "text/html": [
       "<div>\n",
       "<style scoped>\n",
       "    .dataframe tbody tr th:only-of-type {\n",
       "        vertical-align: middle;\n",
       "    }\n",
       "\n",
       "    .dataframe tbody tr th {\n",
       "        vertical-align: top;\n",
       "    }\n",
       "\n",
       "    .dataframe thead th {\n",
       "        text-align: right;\n",
       "    }\n",
       "</style>\n",
       "<table border=\"1\" class=\"dataframe\">\n",
       "  <thead>\n",
       "    <tr style=\"text-align: right;\">\n",
       "      <th></th>\n",
       "      <th>ServiceGroup4</th>\n",
       "      <th>CalendarPeriod</th>\n",
       "      <th>OpJourneys on selDates</th>\n",
       "    </tr>\n",
       "  </thead>\n",
       "  <tbody>\n",
       "    <tr>\n",
       "      <th>0</th>\n",
       "      <td>East Suburban</td>\n",
       "      <td>2016/P01</td>\n",
       "      <td>1002385</td>\n",
       "    </tr>\n",
       "    <tr>\n",
       "      <th>1</th>\n",
       "      <td>East Suburban</td>\n",
       "      <td>2016/P02</td>\n",
       "      <td>841188</td>\n",
       "    </tr>\n",
       "    <tr>\n",
       "      <th>2</th>\n",
       "      <td>East Suburban</td>\n",
       "      <td>2016/P03</td>\n",
       "      <td>752603</td>\n",
       "    </tr>\n",
       "    <tr>\n",
       "      <th>3</th>\n",
       "      <td>East Suburban</td>\n",
       "      <td>2016/P04</td>\n",
       "      <td>877365</td>\n",
       "    </tr>\n",
       "    <tr>\n",
       "      <th>4</th>\n",
       "      <td>East Suburban</td>\n",
       "      <td>2016/P05</td>\n",
       "      <td>836859</td>\n",
       "    </tr>\n",
       "    <tr>\n",
       "      <th>...</th>\n",
       "      <td>...</td>\n",
       "      <td>...</td>\n",
       "      <td>...</td>\n",
       "    </tr>\n",
       "    <tr>\n",
       "      <th>400</th>\n",
       "      <td>eXpress</td>\n",
       "      <td>2021/P12</td>\n",
       "      <td>414883</td>\n",
       "    </tr>\n",
       "    <tr>\n",
       "      <th>401</th>\n",
       "      <td>eXpress</td>\n",
       "      <td>2021/P13</td>\n",
       "      <td>186402</td>\n",
       "    </tr>\n",
       "    <tr>\n",
       "      <th>402</th>\n",
       "      <td>eXpress</td>\n",
       "      <td>2022/P01</td>\n",
       "      <td>299867</td>\n",
       "    </tr>\n",
       "    <tr>\n",
       "      <th>403</th>\n",
       "      <td>eXpress</td>\n",
       "      <td>2022/P02</td>\n",
       "      <td>337312</td>\n",
       "    </tr>\n",
       "    <tr>\n",
       "      <th>404</th>\n",
       "      <td>eXpress</td>\n",
       "      <td>2022/P03</td>\n",
       "      <td>337260</td>\n",
       "    </tr>\n",
       "  </tbody>\n",
       "</table>\n",
       "<p>405 rows × 3 columns</p>\n",
       "</div>"
      ],
      "text/plain": [
       "     ServiceGroup4 CalendarPeriod  OpJourneys on selDates\n",
       "0    East Suburban       2016/P01                 1002385\n",
       "1    East Suburban       2016/P02                  841188\n",
       "2    East Suburban       2016/P03                  752603\n",
       "3    East Suburban       2016/P04                  877365\n",
       "4    East Suburban       2016/P05                  836859\n",
       "..             ...            ...                     ...\n",
       "400        eXpress       2021/P12                  414883\n",
       "401        eXpress       2021/P13                  186402\n",
       "402        eXpress       2022/P01                  299867\n",
       "403        eXpress       2022/P02                  337312\n",
       "404        eXpress       2022/P03                  337260\n",
       "\n",
       "[405 rows x 3 columns]"
      ]
     },
     "execution_count": 125,
     "metadata": {},
     "output_type": "execute_result"
    }
   ],
   "source": [
    "df = scotrail.groupby(['ServiceGroup4','CalendarPeriod'])['OpJourneys on selDates'].sum().reset_index()\n",
    "df"
   ]
  },
  {
   "cell_type": "code",
   "execution_count": 90,
   "id": "6123947d",
   "metadata": {},
   "outputs": [],
   "source": [
    "eastsub = df[df['ServiceGroup4'] =='East Suburban']\n",
    "scenic = df[df['ServiceGroup4'] =='Scenic']\n",
    "express = df[df['ServiceGroup4'] =='eXpress']\n",
    "intercity = df[df['ServiceGroup4'] =='Inter7City']\n",
    "westsub = df[df['ServiceGroup4'] =='West Suburban']"
   ]
  },
  {
   "cell_type": "code",
   "execution_count": 142,
   "id": "28afccfb",
   "metadata": {},
   "outputs": [
    {
     "data": {
      "text/html": [
       "<div>\n",
       "<style scoped>\n",
       "    .dataframe tbody tr th:only-of-type {\n",
       "        vertical-align: middle;\n",
       "    }\n",
       "\n",
       "    .dataframe tbody tr th {\n",
       "        vertical-align: top;\n",
       "    }\n",
       "\n",
       "    .dataframe thead th {\n",
       "        text-align: right;\n",
       "    }\n",
       "</style>\n",
       "<table border=\"1\" class=\"dataframe\">\n",
       "  <thead>\n",
       "    <tr style=\"text-align: right;\">\n",
       "      <th></th>\n",
       "      <th>ServiceGroup4</th>\n",
       "      <th>CalendarPeriod</th>\n",
       "      <th>OpJourneys on selDates</th>\n",
       "    </tr>\n",
       "  </thead>\n",
       "  <tbody>\n",
       "    <tr>\n",
       "      <th>0</th>\n",
       "      <td>East Suburban</td>\n",
       "      <td>2016/P01</td>\n",
       "      <td>1002385</td>\n",
       "    </tr>\n",
       "    <tr>\n",
       "      <th>13</th>\n",
       "      <td>East Suburban</td>\n",
       "      <td>2017/P01</td>\n",
       "      <td>964667</td>\n",
       "    </tr>\n",
       "    <tr>\n",
       "      <th>26</th>\n",
       "      <td>East Suburban</td>\n",
       "      <td>2018/P01</td>\n",
       "      <td>923942</td>\n",
       "    </tr>\n",
       "    <tr>\n",
       "      <th>39</th>\n",
       "      <td>East Suburban</td>\n",
       "      <td>2019/P01</td>\n",
       "      <td>888026</td>\n",
       "    </tr>\n",
       "    <tr>\n",
       "      <th>52</th>\n",
       "      <td>East Suburban</td>\n",
       "      <td>2020/P01</td>\n",
       "      <td>919357</td>\n",
       "    </tr>\n",
       "    <tr>\n",
       "      <th>65</th>\n",
       "      <td>East Suburban</td>\n",
       "      <td>2021/P01</td>\n",
       "      <td>96471</td>\n",
       "    </tr>\n",
       "    <tr>\n",
       "      <th>78</th>\n",
       "      <td>East Suburban</td>\n",
       "      <td>2022/P01</td>\n",
       "      <td>457451</td>\n",
       "    </tr>\n",
       "    <tr>\n",
       "      <th>81</th>\n",
       "      <td>Inter7City</td>\n",
       "      <td>2016/P01</td>\n",
       "      <td>883489</td>\n",
       "    </tr>\n",
       "    <tr>\n",
       "      <th>94</th>\n",
       "      <td>Inter7City</td>\n",
       "      <td>2017/P01</td>\n",
       "      <td>813172</td>\n",
       "    </tr>\n",
       "    <tr>\n",
       "      <th>107</th>\n",
       "      <td>Inter7City</td>\n",
       "      <td>2018/P01</td>\n",
       "      <td>765175</td>\n",
       "    </tr>\n",
       "    <tr>\n",
       "      <th>120</th>\n",
       "      <td>Inter7City</td>\n",
       "      <td>2019/P01</td>\n",
       "      <td>731213</td>\n",
       "    </tr>\n",
       "    <tr>\n",
       "      <th>133</th>\n",
       "      <td>Inter7City</td>\n",
       "      <td>2020/P01</td>\n",
       "      <td>713670</td>\n",
       "    </tr>\n",
       "    <tr>\n",
       "      <th>146</th>\n",
       "      <td>Inter7City</td>\n",
       "      <td>2021/P01</td>\n",
       "      <td>72179</td>\n",
       "    </tr>\n",
       "    <tr>\n",
       "      <th>159</th>\n",
       "      <td>Inter7City</td>\n",
       "      <td>2022/P01</td>\n",
       "      <td>401110</td>\n",
       "    </tr>\n",
       "    <tr>\n",
       "      <th>162</th>\n",
       "      <td>Scenic</td>\n",
       "      <td>2016/P01</td>\n",
       "      <td>288862</td>\n",
       "    </tr>\n",
       "    <tr>\n",
       "      <th>175</th>\n",
       "      <td>Scenic</td>\n",
       "      <td>2017/P01</td>\n",
       "      <td>284834</td>\n",
       "    </tr>\n",
       "    <tr>\n",
       "      <th>188</th>\n",
       "      <td>Scenic</td>\n",
       "      <td>2018/P01</td>\n",
       "      <td>296622</td>\n",
       "    </tr>\n",
       "    <tr>\n",
       "      <th>201</th>\n",
       "      <td>Scenic</td>\n",
       "      <td>2019/P01</td>\n",
       "      <td>280675</td>\n",
       "    </tr>\n",
       "    <tr>\n",
       "      <th>214</th>\n",
       "      <td>Scenic</td>\n",
       "      <td>2020/P01</td>\n",
       "      <td>297674</td>\n",
       "    </tr>\n",
       "    <tr>\n",
       "      <th>227</th>\n",
       "      <td>Scenic</td>\n",
       "      <td>2021/P01</td>\n",
       "      <td>28623</td>\n",
       "    </tr>\n",
       "    <tr>\n",
       "      <th>240</th>\n",
       "      <td>Scenic</td>\n",
       "      <td>2022/P01</td>\n",
       "      <td>166440</td>\n",
       "    </tr>\n",
       "    <tr>\n",
       "      <th>243</th>\n",
       "      <td>West Suburban</td>\n",
       "      <td>2016/P01</td>\n",
       "      <td>5461121</td>\n",
       "    </tr>\n",
       "    <tr>\n",
       "      <th>256</th>\n",
       "      <td>West Suburban</td>\n",
       "      <td>2017/P01</td>\n",
       "      <td>5468894</td>\n",
       "    </tr>\n",
       "    <tr>\n",
       "      <th>269</th>\n",
       "      <td>West Suburban</td>\n",
       "      <td>2018/P01</td>\n",
       "      <td>5392179</td>\n",
       "    </tr>\n",
       "    <tr>\n",
       "      <th>282</th>\n",
       "      <td>West Suburban</td>\n",
       "      <td>2019/P01</td>\n",
       "      <td>5140572</td>\n",
       "    </tr>\n",
       "    <tr>\n",
       "      <th>295</th>\n",
       "      <td>West Suburban</td>\n",
       "      <td>2020/P01</td>\n",
       "      <td>5202063</td>\n",
       "    </tr>\n",
       "    <tr>\n",
       "      <th>308</th>\n",
       "      <td>West Suburban</td>\n",
       "      <td>2021/P01</td>\n",
       "      <td>629571</td>\n",
       "    </tr>\n",
       "    <tr>\n",
       "      <th>321</th>\n",
       "      <td>West Suburban</td>\n",
       "      <td>2022/P01</td>\n",
       "      <td>2726668</td>\n",
       "    </tr>\n",
       "    <tr>\n",
       "      <th>324</th>\n",
       "      <td>eXpress</td>\n",
       "      <td>2016/P01</td>\n",
       "      <td>621410</td>\n",
       "    </tr>\n",
       "    <tr>\n",
       "      <th>337</th>\n",
       "      <td>eXpress</td>\n",
       "      <td>2017/P01</td>\n",
       "      <td>600935</td>\n",
       "    </tr>\n",
       "    <tr>\n",
       "      <th>350</th>\n",
       "      <td>eXpress</td>\n",
       "      <td>2018/P01</td>\n",
       "      <td>586965</td>\n",
       "    </tr>\n",
       "    <tr>\n",
       "      <th>363</th>\n",
       "      <td>eXpress</td>\n",
       "      <td>2019/P01</td>\n",
       "      <td>574778</td>\n",
       "    </tr>\n",
       "    <tr>\n",
       "      <th>376</th>\n",
       "      <td>eXpress</td>\n",
       "      <td>2020/P01</td>\n",
       "      <td>579268</td>\n",
       "    </tr>\n",
       "    <tr>\n",
       "      <th>389</th>\n",
       "      <td>eXpress</td>\n",
       "      <td>2021/P01</td>\n",
       "      <td>42828</td>\n",
       "    </tr>\n",
       "    <tr>\n",
       "      <th>402</th>\n",
       "      <td>eXpress</td>\n",
       "      <td>2022/P01</td>\n",
       "      <td>299867</td>\n",
       "    </tr>\n",
       "  </tbody>\n",
       "</table>\n",
       "</div>"
      ],
      "text/plain": [
       "     ServiceGroup4 CalendarPeriod  OpJourneys on selDates\n",
       "0    East Suburban       2016/P01                 1002385\n",
       "13   East Suburban       2017/P01                  964667\n",
       "26   East Suburban       2018/P01                  923942\n",
       "39   East Suburban       2019/P01                  888026\n",
       "52   East Suburban       2020/P01                  919357\n",
       "65   East Suburban       2021/P01                   96471\n",
       "78   East Suburban       2022/P01                  457451\n",
       "81      Inter7City       2016/P01                  883489\n",
       "94      Inter7City       2017/P01                  813172\n",
       "107     Inter7City       2018/P01                  765175\n",
       "120     Inter7City       2019/P01                  731213\n",
       "133     Inter7City       2020/P01                  713670\n",
       "146     Inter7City       2021/P01                   72179\n",
       "159     Inter7City       2022/P01                  401110\n",
       "162         Scenic       2016/P01                  288862\n",
       "175         Scenic       2017/P01                  284834\n",
       "188         Scenic       2018/P01                  296622\n",
       "201         Scenic       2019/P01                  280675\n",
       "214         Scenic       2020/P01                  297674\n",
       "227         Scenic       2021/P01                   28623\n",
       "240         Scenic       2022/P01                  166440\n",
       "243  West Suburban       2016/P01                 5461121\n",
       "256  West Suburban       2017/P01                 5468894\n",
       "269  West Suburban       2018/P01                 5392179\n",
       "282  West Suburban       2019/P01                 5140572\n",
       "295  West Suburban       2020/P01                 5202063\n",
       "308  West Suburban       2021/P01                  629571\n",
       "321  West Suburban       2022/P01                 2726668\n",
       "324        eXpress       2016/P01                  621410\n",
       "337        eXpress       2017/P01                  600935\n",
       "350        eXpress       2018/P01                  586965\n",
       "363        eXpress       2019/P01                  574778\n",
       "376        eXpress       2020/P01                  579268\n",
       "389        eXpress       2021/P01                   42828\n",
       "402        eXpress       2022/P01                  299867"
      ]
     },
     "execution_count": 142,
     "metadata": {},
     "output_type": "execute_result"
    }
   ],
   "source": [
    "xticks = df[df[\"CalendarPeriod\"].str.contains('P01')]\n",
    "xticks"
   ]
  },
  {
   "cell_type": "code",
   "execution_count": 146,
   "id": "35b9781d",
   "metadata": {},
   "outputs": [
    {
     "data": {
      "image/png": "[encoded data removed]",
      "text/plain": [
       "<Figure size 1133.86x425.197 with 1 Axes>"
      ]
     },
     "metadata": {
      "needs_background": "light"
     },
     "output_type": "display_data"
    }
   ],
   "source": [
    "plt.figure(figsize=(40/2.54, 15/2.54))\n",
    "plt.plot('CalendarPeriod', 'OpJourneys on selDates', data=eastsub, label=\"East Suburban\")\n",
    "plt.plot('CalendarPeriod', 'OpJourneys on selDates', data=intercity, label=\"Inter7City\")\n",
    "plt.plot('CalendarPeriod', 'OpJourneys on selDates', data=scenic, label=\"Scenic\")\n",
    "plt.plot('CalendarPeriod', 'OpJourneys on selDates', data=westsub, label=\"West Suburban\")\n",
    "plt.plot('CalendarPeriod', 'OpJourneys on selDates', data=express, label=\"eXpress\")\n",
    "plt.legend()\n",
    "plt.xticks(xticks[\"CalendarPeriod\"],rotation=90)\n",
    "plt.xlabel('Period')\n",
    "plt.ylabel('Number of journeys (millions)')\n",
    "plt.show()"
   ]
  },
  {
   "cell_type": "code",
   "execution_count": 71,
   "id": "6871eddb",
   "metadata": {},
   "outputs": [],
   "source": [
    "journeys = df['OpJourneys on selDates']\n",
    "service = df['ServiceGroup4']"
   ]
  },
  {
   "cell_type": "code",
   "execution_count": 39,
   "id": "0bd94b5c",
   "metadata": {},
   "outputs": [
    {
     "data": {
      "image/png": "[encoded data removed]",
      "text/plain": [
       "<Figure size 432x288 with 1 Axes>"
      ]
     },
     "metadata": {
      "needs_background": "light"
     },
     "output_type": "display_data"
    }
   ],
   "source": [
    "plt.bar(service,journeys);"
   ]
  },
  {
   "cell_type": "code",
   "execution_count": 40,
   "id": "39983796",
   "metadata": {},
   "outputs": [],
   "source": [
    "scotrail[\"OpJourneys on selDates\"] = scotrail[\"OpJourneys on selDates\"].replace(',','', regex=True)\n",
    "scotrail[\"OpJourneys on selDates\"] = scotrail[\"OpJourneys on selDates\"].astype('int')\n",
    "\n",
    "scotrail[\"OpMiles on selDates\"] = scotrail[\"OpMiles on selDates\"].replace(',','', regex=True)\n",
    "scotrail[\"OpMiles on selDates\"] = scotrail[\"OpMiles on selDates\"].astype('int')\n",
    "\n",
    "scotrail[\"milesdivjourney\"] = scotrail[\"OpMiles on selDates\"] / scotrail[\"OpJourneys on selDates\"]"
   ]
  },
  {
   "cell_type": "code",
   "execution_count": 41,
   "id": "5f02a680",
   "metadata": {},
   "outputs": [
    {
     "data": {
      "text/plain": [
       "<bound method NDFrame.head of       CalendarYear CalendarPeriod CalendarWeek  ServiceGroup4  ProdGrp1  \\\n",
       "0             2016       2016/P01     2016/W01  East Suburban  Commuter   \n",
       "1             2016       2016/P01     2016/W01        eXpress  Commuter   \n",
       "2             2016       2016/P01     2016/W01     Inter7City  Commuter   \n",
       "3             2016       2016/P01     2016/W01         Scenic  Commuter   \n",
       "4             2016       2016/P01     2016/W01  West Suburban  Commuter   \n",
       "...            ...            ...          ...            ...       ...   \n",
       "4870          2022       2022/P03     2022/W13  East Suburban      Peak   \n",
       "4871          2022       2022/P03     2022/W13        eXpress      Peak   \n",
       "4872          2022       2022/P03     2022/W13     Inter7City      Peak   \n",
       "4873          2022       2022/P03     2022/W13         Scenic      Peak   \n",
       "4874          2022       2022/P03     2022/W13  West Suburban      Peak   \n",
       "\n",
       "      OpJourneys on selDates  OpMiles on selDates  Unnamed: 7  milesdivjourney  \n",
       "0                      68625              1163739         NaN        16.957945  \n",
       "1                      33695               953075         NaN        28.285354  \n",
       "2                      27651               757075         NaN        27.379661  \n",
       "3                       9806               180878         NaN        18.445646  \n",
       "4                     302609              3303754         NaN        10.917567  \n",
       "...                      ...                  ...         ...              ...  \n",
       "4870                   40874               765995         NaN        18.740397  \n",
       "4871                   20389               692101         NaN        33.944823  \n",
       "4872                   30408              1492769         NaN        49.091325  \n",
       "4873                   13488               448765         NaN        33.271426  \n",
       "4874                  165319              2034975         NaN        12.309384  \n",
       "\n",
       "[4875 rows x 9 columns]>"
      ]
     },
     "execution_count": 41,
     "metadata": {},
     "output_type": "execute_result"
    }
   ],
   "source": [
    "scotrail.head"
   ]
  },
  {
   "cell_type": "code",
   "execution_count": 42,
   "id": "2755e7d6",
   "metadata": {},
   "outputs": [
    {
     "data": {
      "text/plain": [
       "96.51901624033623"
      ]
     },
     "execution_count": 42,
     "metadata": {},
     "output_type": "execute_result"
    }
   ],
   "source": [
    "np.max(scotrail[\"milesdivjourney\"])"
   ]
  },
  {
   "cell_type": "code",
   "execution_count": 78,
   "id": "bb6a8ff3",
   "metadata": {},
   "outputs": [
    {
     "data": {
      "image/png": "[encoded data removed]",
      "text/plain": [
       "<Figure size 432x288 with 1 Axes>"
      ]
     },
     "metadata": {
      "needs_background": "light"
     },
     "output_type": "display_data"
    }
   ],
   "source": [
    "# What are the main reasons of Scottish locals for not using the train?\n",
    "\n",
    "train_discourage = pd.read_csv('Datasets/train_discourage.csv')\n",
    "train_discourage.rename(columns = {'Table 42: In general, What discourages you from using the train more often than you do? (2012-2014, 2016, 2019)1,2':'Question', 'Unnamed: 1':'2012', 'Unnamed: 2':'2013', 'Unnamed: 3':'2014', 'Unnamed: 4':'2015', 'Unnamed: 5':'2016','Unnamed: 6':'2017', 'Unnamed: 7':'2018', 'Unnamed: 8':'2019', 'Unnamed: 9':'2020'}, inplace = True)\n",
    "\n",
    "# In general, What discourages you from using the train more often than you do?\n",
    "\n",
    "train_discourage = train_discourage.drop(train_discourage.index[33])\n",
    "train_discourage = train_discourage.drop(train_discourage.index[32])\n",
    "train_discourage = train_discourage.drop(train_discourage.index[31])\n",
    "train_discourage = train_discourage.drop(train_discourage.index[30])\n",
    "train_discourage = train_discourage.drop(train_discourage.index[0])\n",
    "\n",
    "train_discourage_selection = train_discourage.iloc[:, [0,1,8]]\n",
    "train_discourage_selection = train_discourage_selection.iloc[[0,1,7,16],:]\n",
    "\n",
    "train_discourage_selection['2012']=train_discourage_selection['2012'].astype(float)\n",
    "train_discourage_selection['2019']=train_discourage_selection['2019'].astype(float)\n",
    "\n",
    "train_discourage_selection.plot(x=\"Question\", y=[\"2012\", \"2019\"], kind=\"bar\", color=[\"coral\", \"cornflowerblue\"]);"
   ]
  },
  {
   "cell_type": "code",
   "execution_count": 96,
   "id": "4055f761",
   "metadata": {},
   "outputs": [
    {
     "data": {
      "application/vnd.plotly.v1+json": {
       "config": {
        "plotlyServerURL": "https://plot.ly"
       },
       "data": [
        {
         "marker": {
          "color": "rgba(0,128,0, 0.6)",
          "line": {
           "color": "rgba(0,128,0, 0.5)",
           "width": 0.05
          }
         },
         "name": "Strongly Agree %",
         "type": "bar",
         "x": [
          "Trains run to timetable",
          "Train service is stable and not regularly changing",
          "Trains are clean",
          "Feel safe/secure on trains during the day",
          "It is simple decide what type of ticket I need",
          "Finding out about routes and times is easy",
          "Easy to change from trains to other forms of transport",
          "Train fares are good value",
          "Feel safe/secure on trains during the evening"
         ],
         "y": [
          28,
          27,
          28,
          50,
          44,
          45,
          32,
          15,
          34
         ]
        },
        {
         "marker": {
          "color": "rgba(0,0,255, 0.6)",
          "line": {
           "color": "rgba(0,0,255, 0.5)",
           "width": 0.05
          }
         },
         "name": "Tend to Agree %",
         "type": "bar",
         "x": [
          "Trains run to timetable",
          "Train service is stable and not regularly changing",
          "Trains are clean",
          "Feel safe/secure on trains during the day",
          "It is simple decide what type of ticket I need",
          "Finding out about routes and times is easy",
          "Easy to change from trains to other forms of transport",
          "Train fares are good value",
          "Feel safe/secure on trains during the evening"
         ],
         "y": [
          46,
          46,
          55,
          45,
          43,
          44,
          40,
          34,
          42
         ]
        },
        {
         "marker": {
          "color": "rgba(128,0,0, 0.5)",
          "line": {
           "color": "rgba(128,0,0, 0.5)",
           "width": 0.05
          }
         },
         "name": "Neither Agree nor Disagree %",
         "type": "bar",
         "x": [
          "Trains run to timetable",
          "Train service is stable and not regularly changing",
          "Trains are clean",
          "Feel safe/secure on trains during the day",
          "It is simple decide what type of ticket I need",
          "Finding out about routes and times is easy",
          "Easy to change from trains to other forms of transport",
          "Train fares are good value",
          "Feel safe/secure on trains during the evening"
         ],
         "y": [
          7,
          10,
          8,
          3,
          5,
          6,
          14,
          14,
          9
         ]
        },
        {
         "marker": {
          "color": "rgba(219, 109, 166, 0.8)",
          "line": {
           "color": "rgba(219, 109, 166, 0.8)",
           "width": 0.05
          }
         },
         "name": "Tend to Disagree %",
         "type": "bar",
         "x": [
          "Trains run to timetable",
          "Train service is stable and not regularly changing",
          "Trains are clean",
          "Feel safe/secure on trains during the day",
          "It is simple decide what type of ticket I need",
          "Finding out about routes and times is easy",
          "Easy to change from trains to other forms of transport",
          "Train fares are good value",
          "Feel safe/secure on trains during the evening"
         ],
         "y": [
          11,
          10,
          7,
          1,
          4,
          3,
          5,
          21,
          7
         ]
        },
        {
         "marker": {
          "color": "rgba(194, 203, 22, 0.8)",
          "line": {
           "color": "rgba(194, 203, 22, 0.8)",
           "width": 0.05
          }
         },
         "name": "Strongly Disagree %",
         "type": "bar",
         "x": [
          "Trains run to timetable",
          "Train service is stable and not regularly changing",
          "Trains are clean",
          "Feel safe/secure on trains during the day",
          "It is simple decide what type of ticket I need",
          "Finding out about routes and times is easy",
          "Easy to change from trains to other forms of transport",
          "Train fares are good value",
          "Feel safe/secure on trains during the evening"
         ],
         "y": [
          6,
          4,
          1,
          0,
          2,
          1,
          2,
          15,
          3
         ]
        },
        {
         "marker": {
          "color": "rgba(165, 243, 237, 0.8)",
          "line": {
           "color": "rgba(165, 243, 237, 0.8)",
           "width": 0.05
          }
         },
         "name": "No opinion %",
         "type": "bar",
         "x": [
          "Trains run to timetable",
          "Train service is stable and not regularly changing",
          "Trains are clean",
          "Feel safe/secure on trains during the day",
          "It is simple decide what type of ticket I need",
          "Finding out about routes and times is easy",
          "Easy to change from trains to other forms of transport",
          "Train fares are good value",
          "Feel safe/secure on trains during the evening"
         ],
         "y": [
          2,
          4,
          1,
          0,
          1,
          1,
          7,
          2,
          5
         ]
        }
       ],
       "layout": {
        "autosize": false,
        "barmode": "stack",
        "height": 400,
        "paper_bgcolor": "rgba(0,0,0,0)",
        "plot_bgcolor": "rgba(0,0,0,0)",
        "template": {
         "data": {
          "bar": [
           {
            "error_x": {
             "color": "#2a3f5f"
            },
            "error_y": {
             "color": "#2a3f5f"
            },
            "marker": {
             "line": {
              "color": "#E5ECF6",
              "width": 0.5
             },
             "pattern": {
              "fillmode": "overlay",
              "size": 10,
              "solidity": 0.2
             }
            },
            "type": "bar"
           }
          ],
          "barpolar": [
           {
            "marker": {
             "line": {
              "color": "#E5ECF6",
              "width": 0.5
             },
             "pattern": {
              "fillmode": "overlay",
              "size": 10,
              "solidity": 0.2
             }
            },
            "type": "barpolar"
           }
          ],
          "carpet": [
           {
            "aaxis": {
             "endlinecolor": "#2a3f5f",
             "gridcolor": "white",
             "linecolor": "white",
             "minorgridcolor": "white",
             "startlinecolor": "#2a3f5f"
            },
            "baxis": {
             "endlinecolor": "#2a3f5f",
             "gridcolor": "white",
             "linecolor": "white",
             "minorgridcolor": "white",
             "startlinecolor": "#2a3f5f"
            },
            "type": "carpet"
           }
          ],
          "choropleth": [
           {
            "colorbar": {
             "outlinewidth": 0,
             "ticks": ""
            },
            "type": "choropleth"
           }
          ],
          "contour": [
           {
            "colorbar": {
             "outlinewidth": 0,
             "ticks": ""
            },
            "colorscale": [
             [
              0,
              "#0d0887"
             ],
             [
              0.1111111111111111,
              "#46039f"
             ],
             [
              0.2222222222222222,
              "#7201a8"
             ],
             [
              0.3333333333333333,
              "#9c179e"
             ],
             [
              0.4444444444444444,
              "#bd3786"
             ],
             [
              0.5555555555555556,
              "#d8576b"
             ],
             [
              0.6666666666666666,
              "#ed7953"
             ],
             [
              0.7777777777777778,
              "#fb9f3a"
             ],
             [
              0.8888888888888888,
              "#fdca26"
             ],
             [
              1,
              "#f0f921"
             ]
            ],
            "type": "contour"
           }
          ],
          "contourcarpet": [
           {
            "colorbar": {
             "outlinewidth": 0,
             "ticks": ""
            },
            "type": "contourcarpet"
           }
          ],
          "heatmap": [
           {
            "colorbar": {
             "outlinewidth": 0,
             "ticks": ""
            },
            "colorscale": [
             [
              0,
              "#0d0887"
             ],
             [
              0.1111111111111111,
              "#46039f"
             ],
             [
              0.2222222222222222,
              "#7201a8"
             ],
             [
              0.3333333333333333,
              "#9c179e"
             ],
             [
              0.4444444444444444,
              "#bd3786"
             ],
             [
              0.5555555555555556,
              "#d8576b"
             ],
             [
              0.6666666666666666,
              "#ed7953"
             ],
             [
              0.7777777777777778,
              "#fb9f3a"
             ],
             [
              0.8888888888888888,
              "#fdca26"
             ],
             [
              1,
              "#f0f921"
             ]
            ],
            "type": "heatmap"
           }
          ],
          "heatmapgl": [
           {
            "colorbar": {
             "outlinewidth": 0,
             "ticks": ""
            },
            "colorscale": [
             [
              0,
              "#0d0887"
             ],
             [
              0.1111111111111111,
              "#46039f"
             ],
             [
              0.2222222222222222,
              "#7201a8"
             ],
             [
              0.3333333333333333,
              "#9c179e"
             ],
             [
              0.4444444444444444,
              "#bd3786"
             ],
             [
              0.5555555555555556,
              "#d8576b"
             ],
             [
              0.6666666666666666,
              "#ed7953"
             ],
             [
              0.7777777777777778,
              "#fb9f3a"
             ],
             [
              0.8888888888888888,
              "#fdca26"
             ],
             [
              1,
              "#f0f921"
             ]
            ],
            "type": "heatmapgl"
           }
          ],
          "histogram": [
           {
            "marker": {
             "pattern": {
              "fillmode": "overlay",
              "size": 10,
              "solidity": 0.2
             }
            },
            "type": "histogram"
           }
          ],
          "histogram2d": [
           {
            "colorbar": {
             "outlinewidth": 0,
             "ticks": ""
            },
            "colorscale": [
             [
              0,
              "#0d0887"
             ],
             [
              0.1111111111111111,
              "#46039f"
             ],
             [
              0.2222222222222222,
              "#7201a8"
             ],
             [
              0.3333333333333333,
              "#9c179e"
             ],
             [
              0.4444444444444444,
              "#bd3786"
             ],
             [
              0.5555555555555556,
              "#d8576b"
             ],
             [
              0.6666666666666666,
              "#ed7953"
             ],
             [
              0.7777777777777778,
              "#fb9f3a"
             ],
             [
              0.8888888888888888,
              "#fdca26"
             ],
             [
              1,
              "#f0f921"
             ]
            ],
            "type": "histogram2d"
           }
          ],
          "histogram2dcontour": [
           {
            "colorbar": {
             "outlinewidth": 0,
             "ticks": ""
            },
            "colorscale": [
             [
              0,
              "#0d0887"
             ],
             [
              0.1111111111111111,
              "#46039f"
             ],
             [
              0.2222222222222222,
              "#7201a8"
             ],
             [
              0.3333333333333333,
              "#9c179e"
             ],
             [
              0.4444444444444444,
              "#bd3786"
             ],
             [
              0.5555555555555556,
              "#d8576b"
             ],
             [
              0.6666666666666666,
              "#ed7953"
             ],
             [
              0.7777777777777778,
              "#fb9f3a"
             ],
             [
              0.8888888888888888,
              "#fdca26"
             ],
             [
              1,
              "#f0f921"
             ]
            ],
            "type": "histogram2dcontour"
           }
          ],
          "mesh3d": [
           {
            "colorbar": {
             "outlinewidth": 0,
             "ticks": ""
            },
            "type": "mesh3d"
           }
          ],
          "parcoords": [
           {
            "line": {
             "colorbar": {
              "outlinewidth": 0,
              "ticks": ""
             }
            },
            "type": "parcoords"
           }
          ],
          "pie": [
           {
            "automargin": true,
            "type": "pie"
           }
          ],
          "scatter": [
           {
            "fillpattern": {
             "fillmode": "overlay",
             "size": 10,
             "solidity": 0.2
            },
            "type": "scatter"
           }
          ],
          "scatter3d": [
           {
            "line": {
             "colorbar": {
              "outlinewidth": 0,
              "ticks": ""
             }
            },
            "marker": {
             "colorbar": {
              "outlinewidth": 0,
              "ticks": ""
             }
            },
            "type": "scatter3d"
           }
          ],
          "scattercarpet": [
           {
            "marker": {
             "colorbar": {
              "outlinewidth": 0,
              "ticks": ""
             }
            },
            "type": "scattercarpet"
           }
          ],
          "scattergeo": [
           {
            "marker": {
             "colorbar": {
              "outlinewidth": 0,
              "ticks": ""
             }
            },
            "type": "scattergeo"
           }
          ],
          "scattergl": [
           {
            "marker": {
             "colorbar": {
              "outlinewidth": 0,
              "ticks": ""
             }
            },
            "type": "scattergl"
           }
          ],
          "scattermapbox": [
           {
            "marker": {
             "colorbar": {
              "outlinewidth": 0,
              "ticks": ""
             }
            },
            "type": "scattermapbox"
           }
          ],
          "scatterpolar": [
           {
            "marker": {
             "colorbar": {
              "outlinewidth": 0,
              "ticks": ""
             }
            },
            "type": "scatterpolar"
           }
          ],
          "scatterpolargl": [
           {
            "marker": {
             "colorbar": {
              "outlinewidth": 0,
              "ticks": ""
             }
            },
            "type": "scatterpolargl"
           }
          ],
          "scatterternary": [
           {
            "marker": {
             "colorbar": {
              "outlinewidth": 0,
              "ticks": ""
             }
            },
            "type": "scatterternary"
           }
          ],
          "surface": [
           {
            "colorbar": {
             "outlinewidth": 0,
             "ticks": ""
            },
            "colorscale": [
             [
              0,
              "#0d0887"
             ],
             [
              0.1111111111111111,
              "#46039f"
             ],
             [
              0.2222222222222222,
              "#7201a8"
             ],
             [
              0.3333333333333333,
              "#9c179e"
             ],
             [
              0.4444444444444444,
              "#bd3786"
             ],
             [
              0.5555555555555556,
              "#d8576b"
             ],
             [
              0.6666666666666666,
              "#ed7953"
             ],
             [
              0.7777777777777778,
              "#fb9f3a"
             ],
             [
              0.8888888888888888,
              "#fdca26"
             ],
             [
              1,
              "#f0f921"
             ]
            ],
            "type": "surface"
           }
          ],
          "table": [
           {
            "cells": {
             "fill": {
              "color": "#EBF0F8"
             },
             "line": {
              "color": "white"
             }
            },
            "header": {
             "fill": {
              "color": "#C8D4E3"
             },
             "line": {
              "color": "white"
             }
            },
            "type": "table"
           }
          ]
         },
         "layout": {
          "annotationdefaults": {
           "arrowcolor": "#2a3f5f",
           "arrowhead": 0,
           "arrowwidth": 1
          },
          "autotypenumbers": "strict",
          "coloraxis": {
           "colorbar": {
            "outlinewidth": 0,
            "ticks": ""
           }
          },
          "colorscale": {
           "diverging": [
            [
             0,
             "#8e0152"
            ],
            [
             0.1,
             "#c51b7d"
            ],
            [
             0.2,
             "#de77ae"
            ],
            [
             0.3,
             "#f1b6da"
            ],
            [
             0.4,
             "#fde0ef"
            ],
            [
             0.5,
             "#f7f7f7"
            ],
            [
             0.6,
             "#e6f5d0"
            ],
            [
             0.7,
             "#b8e186"
            ],
            [
             0.8,
             "#7fbc41"
            ],
            [
             0.9,
             "#4d9221"
            ],
            [
             1,
             "#276419"
            ]
           ],
           "sequential": [
            [
             0,
             "#0d0887"
            ],
            [
             0.1111111111111111,
             "#46039f"
            ],
            [
             0.2222222222222222,
             "#7201a8"
            ],
            [
             0.3333333333333333,
             "#9c179e"
            ],
            [
             0.4444444444444444,
             "#bd3786"
            ],
            [
             0.5555555555555556,
             "#d8576b"
            ],
            [
             0.6666666666666666,
             "#ed7953"
            ],
            [
             0.7777777777777778,
             "#fb9f3a"
            ],
            [
             0.8888888888888888,
             "#fdca26"
            ],
            [
             1,
             "#f0f921"
            ]
           ],
           "sequentialminus": [
            [
             0,
             "#0d0887"
            ],
            [
             0.1111111111111111,
             "#46039f"
            ],
            [
             0.2222222222222222,
             "#7201a8"
            ],
            [
             0.3333333333333333,
             "#9c179e"
            ],
            [
             0.4444444444444444,
             "#bd3786"
            ],
            [
             0.5555555555555556,
             "#d8576b"
            ],
            [
             0.6666666666666666,
             "#ed7953"
            ],
            [
             0.7777777777777778,
             "#fb9f3a"
            ],
            [
             0.8888888888888888,
             "#fdca26"
            ],
            [
             1,
             "#f0f921"
            ]
           ]
          },
          "colorway": [
           "#636efa",
           "#EF553B",
           "#00cc96",
           "#ab63fa",
           "#FFA15A",
           "#19d3f3",
           "#FF6692",
           "#B6E880",
           "#FF97FF",
           "#FECB52"
          ],
          "font": {
           "color": "#2a3f5f"
          },
          "geo": {
           "bgcolor": "white",
           "lakecolor": "white",
           "landcolor": "#E5ECF6",
           "showlakes": true,
           "showland": true,
           "subunitcolor": "white"
          },
          "hoverlabel": {
           "align": "left"
          },
          "hovermode": "closest",
          "mapbox": {
           "style": "light"
          },
          "paper_bgcolor": "white",
          "plot_bgcolor": "#E5ECF6",
          "polar": {
           "angularaxis": {
            "gridcolor": "white",
            "linecolor": "white",
            "ticks": ""
           },
           "bgcolor": "#E5ECF6",
           "radialaxis": {
            "gridcolor": "white",
            "linecolor": "white",
            "ticks": ""
           }
          },
          "scene": {
           "xaxis": {
            "backgroundcolor": "#E5ECF6",
            "gridcolor": "white",
            "gridwidth": 2,
            "linecolor": "white",
            "showbackground": true,
            "ticks": "",
            "zerolinecolor": "white"
           },
           "yaxis": {
            "backgroundcolor": "#E5ECF6",
            "gridcolor": "white",
            "gridwidth": 2,
            "linecolor": "white",
            "showbackground": true,
            "ticks": "",
            "zerolinecolor": "white"
           },
           "zaxis": {
            "backgroundcolor": "#E5ECF6",
            "gridcolor": "white",
            "gridwidth": 2,
            "linecolor": "white",
            "showbackground": true,
            "ticks": "",
            "zerolinecolor": "white"
           }
          },
          "shapedefaults": {
           "line": {
            "color": "#2a3f5f"
           }
          },
          "ternary": {
           "aaxis": {
            "gridcolor": "white",
            "linecolor": "white",
            "ticks": ""
           },
           "baxis": {
            "gridcolor": "white",
            "linecolor": "white",
            "ticks": ""
           },
           "bgcolor": "#E5ECF6",
           "caxis": {
            "gridcolor": "white",
            "linecolor": "white",
            "ticks": ""
           }
          },
          "title": {
           "x": 0.05
          },
          "xaxis": {
           "automargin": true,
           "gridcolor": "white",
           "linecolor": "white",
           "ticks": "",
           "title": {
            "standoff": 15
           },
           "zerolinecolor": "white",
           "zerolinewidth": 2
          },
          "yaxis": {
           "automargin": true,
           "gridcolor": "white",
           "linecolor": "white",
           "ticks": "",
           "title": {
            "standoff": 15
           },
           "zerolinecolor": "white",
           "zerolinewidth": 2
          }
         }
        },
        "title": {
         "text": "Likert Scale for user views on local train services",
         "x": 0.5,
         "xanchor": "center",
         "y": 0.96,
         "yanchor": "top"
        },
        "width": 1000,
        "yaxis": {
         "tickmode": "array",
         "ticktext": [
          "0%",
          "20%",
          "40%",
          "60%",
          "80%",
          "100%"
         ],
         "tickvals": [
          0,
          20,
          40,
          60,
          80,
          100
         ],
         "title": {
          "font": {
           "size": 15
          },
          "text": "Percentage %"
         }
        }
       }
      }
     },
     "metadata": {},
     "output_type": "display_data"
    }
   ],
   "source": [
    "# Users' views on local train services\n",
    "\n",
    "local_train_views = pd.read_csv('Datasets/local_train_views.csv')\n",
    "\n",
    "local_train_views.rename(columns = {\"Table 30: [Users' views on local train services] Adults (16+) who have used the train in the previous month, views on their local train services, 20191\":'Question', 'Unnamed: 1':'Strongly Agree', 'Unnamed: 2':'Tend to Agree', 'Unnamed: 3':'Total Agree', 'Unnamed: 4':'Neither Agree nor Disagree', 'Unnamed: 5':'Tend to Disagree','Unnamed: 6':'Strongly Disagree', 'Unnamed: 7':'No opinion', 'Unnamed: 8':'Total'}, inplace = True)\n",
    "\n",
    "local_train_views[\"Total\"] = local_train_views[\"Total\"].replace(',','', regex=True)\n",
    "local_train_views = local_train_views.iloc[[2,3,4,5,6,7,8,9,10],:]\n",
    "local_train_views = local_train_views.iloc[:,[0,1,2,4,5,6,7,8]]\n",
    "\n",
    "local_train_views['Strongly Agree']=local_train_views['Strongly Agree'].astype(float)\n",
    "local_train_views['Tend to Agree']=local_train_views['Tend to Agree'].astype(float)\n",
    "local_train_views['Neither Agree nor Disagree']=local_train_views['Neither Agree nor Disagree'].astype(float)\n",
    "local_train_views['Tend to Disagree']=local_train_views['Tend to Disagree'].astype(float)\n",
    "local_train_views['Strongly Disagree']=local_train_views['Strongly Disagree'].astype(float)\n",
    "local_train_views['No opinion']=local_train_views['No opinion'].astype(float)\n",
    "local_train_views['Total']=local_train_views['Total'].astype(float)\n",
    "\n",
    "# Stacked bar chart to 100 percent \n",
    "\n",
    "import plotly.express as px\n",
    "import plotly.graph_objs as go\n",
    "\n",
    "fig = go.Figure()\n",
    "fig.add_trace(go.Bar(\n",
    "    y=local_train_views[\"Strongly Agree\"],\n",
    "    x=local_train_views.Question,\n",
    "    name=\"Strongly Agree %\",\n",
    "    marker=dict(\n",
    "        color='rgba(0,128,0, 0.6)',\n",
    "        line=dict(color='rgba(0,128,0, 0.5)', width=0.05)\n",
    "    )\n",
    "))\n",
    "fig.add_trace(go.Bar(\n",
    "    y=local_train_views[\"Tend to Agree\"],\n",
    "    x=local_train_views.Question,\n",
    "    name=\"Tend to Agree %\",\n",
    "    marker=dict(\n",
    "        color='rgba(0,0,255, 0.6)',\n",
    "        line=dict(color='rgba(0,0,255, 0.5)', width=0.05)\n",
    "    )\n",
    "))\n",
    "fig.add_trace(go.Bar(\n",
    "    y=local_train_views[\"Neither Agree nor Disagree\"],\n",
    "    x=local_train_views.Question,\n",
    "    name=\"Neither Agree nor Disagree %\",\n",
    "    marker=dict(\n",
    "        color='rgba(128,0,0, 0.5)',\n",
    "        line=dict(color='rgba(128,0,0, 0.5)', width=0.05)\n",
    "    )\n",
    "))\n",
    "fig.add_trace(go.Bar(\n",
    "    y=local_train_views[\"Tend to Disagree\"],\n",
    "    x=local_train_views.Question,\n",
    "    name=\"Tend to Disagree %\",\n",
    "    marker=dict(\n",
    "        color='rgba(219, 109, 166, 0.8)',\n",
    "        line=dict(color='rgba(219, 109, 166, 0.8)', width=0.05)\n",
    "    ) \n",
    "))\n",
    "fig.add_trace(go.Bar(\n",
    "    y=local_train_views[\"Strongly Disagree\"],\n",
    "    x=local_train_views.Question,\n",
    "    name=\"Strongly Disagree %\",\n",
    "    marker=dict(\n",
    "        color='rgba(194, 203, 22, 0.8)',\n",
    "        line=dict(color='rgba(194, 203, 22, 0.8)', width=0.05)\n",
    "    )\n",
    "))\n",
    "fig.add_trace(go.Bar(\n",
    "    y=local_train_views[\"No opinion\"],\n",
    "    x=local_train_views.Question,\n",
    "    name=\"No opinion %\",\n",
    "    marker=dict(\n",
    "        color='rgba(165, 243, 237, 0.8)',\n",
    "        line=dict(color='rgba(165, 243, 237, 0.8)', width=0.05)\n",
    "    )\n",
    "))\n",
    "fig.update_layout(\n",
    "        yaxis=dict(\n",
    "        title_text=\"Percentage %\",\n",
    "        ticktext=[\"0%\", \"20%\", \"40%\", \"60%\",\"80%\",\"100%\"],\n",
    "        tickvals=[0, 20, 40, 60, 80, 100],\n",
    "        tickmode=\"array\",\n",
    "        titlefont=dict(size=15),\n",
    "    ),\n",
    "    autosize=False,\n",
    "    width=1000,\n",
    "    height=400,\n",
    "    paper_bgcolor='rgba(0,0,0,0)',\n",
    "    plot_bgcolor='rgba(0,0,0,0)',\n",
    "    title={\n",
    "        'text': \"Likert Scale for user views on local train services\",\n",
    "        'y':0.96,\n",
    "        'x':0.5,\n",
    "        'xanchor': 'center',\n",
    "        'yanchor': 'top'},\n",
    "    barmode='stack')\n",
    "fig.show()"
   ]
  },
  {
   "cell_type": "code",
   "execution_count": 84,
   "id": "e14626ea",
   "metadata": {},
   "outputs": [
    {
     "data": {
      "text/html": [
       "<div>\n",
       "<style scoped>\n",
       "    .dataframe tbody tr th:only-of-type {\n",
       "        vertical-align: middle;\n",
       "    }\n",
       "\n",
       "    .dataframe tbody tr th {\n",
       "        vertical-align: top;\n",
       "    }\n",
       "\n",
       "    .dataframe thead th {\n",
       "        text-align: right;\n",
       "    }\n",
       "</style>\n",
       "<table border=\"1\" class=\"dataframe\">\n",
       "  <thead>\n",
       "    <tr style=\"text-align: right;\">\n",
       "      <th></th>\n",
       "      <th>Entity</th>\n",
       "      <th>GHG emissions (gCO2e/km)</th>\n",
       "    </tr>\n",
       "  </thead>\n",
       "  <tbody>\n",
       "    <tr>\n",
       "      <th>11</th>\n",
       "      <td>Large car (petrol)</td>\n",
       "      <td>282.95</td>\n",
       "    </tr>\n",
       "    <tr>\n",
       "      <th>5</th>\n",
       "      <td>Domestic flight</td>\n",
       "      <td>254.93</td>\n",
       "    </tr>\n",
       "    <tr>\n",
       "      <th>1</th>\n",
       "      <td>Bus</td>\n",
       "      <td>104.71</td>\n",
       "    </tr>\n",
       "    <tr>\n",
       "      <th>28</th>\n",
       "      <td>National rail</td>\n",
       "      <td>41.15</td>\n",
       "    </tr>\n",
       "  </tbody>\n",
       "</table>\n",
       "</div>"
      ],
      "text/plain": [
       "                Entity  GHG emissions (gCO2e/km)\n",
       "11  Large car (petrol)                    282.95\n",
       "5      Domestic flight                    254.93\n",
       "1                  Bus                    104.71\n",
       "28       National rail                     41.15"
      ]
     },
     "execution_count": 84,
     "metadata": {},
     "output_type": "execute_result"
    }
   ],
   "source": [
    "carbon_ds = pd.read_csv('Datasets/carbon-footprint-travel-mode.csv', dtype = str)\n",
    "carbon_ds = carbon_ds.drop(['Code', 'Year'], 1)\n",
    "carbon_ds['GHG emissions (gCO2e/km)'] = carbon_ds['GHG emissions (gCO2e/km)'].astype(float).round(2)\n",
    "carbon_ds = carbon_ds.sort_values(by=[\"GHG emissions (gCO2e/km)\"], ascending=False)\n",
    "travel = ['Domestic flight', 'Large car (petrol)', 'Bus', 'National rail' ]\n",
    "carbon_ds = carbon_ds.loc[carbon_ds['Entity'].isin(travel)]\n",
    "carbon_ds"
   ]
  },
  {
   "cell_type": "code",
   "execution_count": 99,
   "id": "63fa7ebc",
   "metadata": {},
   "outputs": [
    {
     "data": {
      "image/png": "[encoded data removed]",
      "text/plain": [
       "<Figure size 432x288 with 1 Axes>"
      ]
     },
     "metadata": {},
     "output_type": "display_data"
    }
   ],
   "source": [
    "plt.pie(carbon_ds['GHG emissions (gCO2e/km)'], labels = carbon_ds[\"Entity\"])\n",
    "plt.show()"
   ]
  },
  {
   "cell_type": "code",
   "execution_count": 129,
   "id": "baafd9d2",
   "metadata": {},
   "outputs": [
    {
     "data": {
      "text/html": [
       "<div>\n",
       "<style scoped>\n",
       "    .dataframe tbody tr th:only-of-type {\n",
       "        vertical-align: middle;\n",
       "    }\n",
       "\n",
       "    .dataframe tbody tr th {\n",
       "        vertical-align: top;\n",
       "    }\n",
       "\n",
       "    .dataframe thead th {\n",
       "        text-align: right;\n",
       "    }\n",
       "</style>\n",
       "<table border=\"1\" class=\"dataframe\">\n",
       "  <thead>\n",
       "    <tr style=\"text-align: right;\">\n",
       "      <th></th>\n",
       "      <th>ServiceGroup</th>\n",
       "      <th>ServiceDescription</th>\n",
       "    </tr>\n",
       "  </thead>\n",
       "  <tbody>\n",
       "    <tr>\n",
       "      <th>0</th>\n",
       "      <td>East Suburban</td>\n",
       "      <td>EDINBURGH-DUNBLANE</td>\n",
       "    </tr>\n",
       "    <tr>\n",
       "      <th>1</th>\n",
       "      <td>East Suburban</td>\n",
       "      <td>FIFE CIRCULAR</td>\n",
       "    </tr>\n",
       "    <tr>\n",
       "      <th>2</th>\n",
       "      <td>East Suburban</td>\n",
       "      <td>GLASGOW-SHOTTS-EDINBURGH</td>\n",
       "    </tr>\n",
       "    <tr>\n",
       "      <th>3</th>\n",
       "      <td>East Suburban</td>\n",
       "      <td>GLC-SHS-EDB (S GLC-SHS)</td>\n",
       "    </tr>\n",
       "    <tr>\n",
       "      <th>4</th>\n",
       "      <td>East Suburban</td>\n",
       "      <td>HAYMARKET-NORTH BERWICK</td>\n",
       "    </tr>\n",
       "    <tr>\n",
       "      <th>5</th>\n",
       "      <td>eXpress</td>\n",
       "      <td>EDINBURGH-FALKIRK-GLASGOW</td>\n",
       "    </tr>\n",
       "    <tr>\n",
       "      <th>6</th>\n",
       "      <td>Inter7City</td>\n",
       "      <td>ABERDEEN-INVERNESS</td>\n",
       "    </tr>\n",
       "    <tr>\n",
       "      <th>7</th>\n",
       "      <td>Inter7City</td>\n",
       "      <td>EDINBURGH-ABERDEEN</td>\n",
       "    </tr>\n",
       "    <tr>\n",
       "      <th>8</th>\n",
       "      <td>Inter7City</td>\n",
       "      <td>GLA/EDB - DUNDEE/ARBROATH</td>\n",
       "    </tr>\n",
       "    <tr>\n",
       "      <th>9</th>\n",
       "      <td>Inter7City</td>\n",
       "      <td>GLASGOW/EDINBURGH-INVERNESS</td>\n",
       "    </tr>\n",
       "    <tr>\n",
       "      <th>10</th>\n",
       "      <td>Inter7City</td>\n",
       "      <td>GLASGOW-ABERDEEN-DYCE</td>\n",
       "    </tr>\n",
       "    <tr>\n",
       "      <th>11</th>\n",
       "      <td>Inter7City</td>\n",
       "      <td>MONTROSE - ABERDEEN</td>\n",
       "    </tr>\n",
       "    <tr>\n",
       "      <th>12</th>\n",
       "      <td>Scenic</td>\n",
       "      <td>EDINBURGH CROSSRAIL</td>\n",
       "    </tr>\n",
       "    <tr>\n",
       "      <th>13</th>\n",
       "      <td>Scenic</td>\n",
       "      <td>GLASGOW/CARLISLE-STRANRAER</td>\n",
       "    </tr>\n",
       "    <tr>\n",
       "      <th>14</th>\n",
       "      <td>Scenic</td>\n",
       "      <td>GLASGOW-CARLISLE VIA DUMFRIES</td>\n",
       "    </tr>\n",
       "    <tr>\n",
       "      <th>15</th>\n",
       "      <td>Scenic</td>\n",
       "      <td>GLQ-OBAN/FT WILLIAM/MALLAIG</td>\n",
       "    </tr>\n",
       "    <tr>\n",
       "      <th>16</th>\n",
       "      <td>Scenic</td>\n",
       "      <td>INVERNESS-KYLE OF LOCHALSH</td>\n",
       "    </tr>\n",
       "    <tr>\n",
       "      <th>17</th>\n",
       "      <td>Scenic</td>\n",
       "      <td>INVERNESS-WICK/THURSO</td>\n",
       "    </tr>\n",
       "    <tr>\n",
       "      <th>18</th>\n",
       "      <td>West Suburban</td>\n",
       "      <td>ARGYLE LINE</td>\n",
       "    </tr>\n",
       "    <tr>\n",
       "      <th>19</th>\n",
       "      <td>West Suburban</td>\n",
       "      <td>ARGYLE LINE (S)</td>\n",
       "    </tr>\n",
       "    <tr>\n",
       "      <th>20</th>\n",
       "      <td>West Suburban</td>\n",
       "      <td>EDINBURGH - BATHGATE</td>\n",
       "    </tr>\n",
       "    <tr>\n",
       "      <th>21</th>\n",
       "      <td>West Suburban</td>\n",
       "      <td>GLASGOW NORTHERN SUBURBAN(S)</td>\n",
       "    </tr>\n",
       "    <tr>\n",
       "      <th>22</th>\n",
       "      <td>West Suburban</td>\n",
       "      <td>GLASGOW-ARDROSSAN/LARGS (S)</td>\n",
       "    </tr>\n",
       "    <tr>\n",
       "      <th>23</th>\n",
       "      <td>West Suburban</td>\n",
       "      <td>GLASGOW-AYR (S)</td>\n",
       "    </tr>\n",
       "    <tr>\n",
       "      <th>24</th>\n",
       "      <td>West Suburban</td>\n",
       "      <td>GLASGOW-BARRHD-KILMARNOCK(S)</td>\n",
       "    </tr>\n",
       "    <tr>\n",
       "      <th>25</th>\n",
       "      <td>West Suburban</td>\n",
       "      <td>GLASGOW-EAST KILBRIDE (S)</td>\n",
       "    </tr>\n",
       "    <tr>\n",
       "      <th>26</th>\n",
       "      <td>West Suburban</td>\n",
       "      <td>GLASGOW-FALKIRK GRAHAMSTON</td>\n",
       "    </tr>\n",
       "    <tr>\n",
       "      <th>27</th>\n",
       "      <td>West Suburban</td>\n",
       "      <td>GLASGOW-PAISLEY CANAL(S)</td>\n",
       "    </tr>\n",
       "    <tr>\n",
       "      <th>28</th>\n",
       "      <td>West Suburban</td>\n",
       "      <td>GLASGOW-STIRLING-DUNBLANE</td>\n",
       "    </tr>\n",
       "    <tr>\n",
       "      <th>29</th>\n",
       "      <td>West Suburban</td>\n",
       "      <td>GLASGOW-WEMYSS BAY/GOUROCK(S)</td>\n",
       "    </tr>\n",
       "    <tr>\n",
       "      <th>30</th>\n",
       "      <td>West Suburban</td>\n",
       "      <td>GLQ/SPRINGBURN-CUMBERNAULD(S)</td>\n",
       "    </tr>\n",
       "    <tr>\n",
       "      <th>31</th>\n",
       "      <td>West Suburban</td>\n",
       "      <td>GLQ-FKG (S GLQ-CRO)</td>\n",
       "    </tr>\n",
       "    <tr>\n",
       "      <th>32</th>\n",
       "      <td>West Suburban</td>\n",
       "      <td>GLQ-STG-DBL (S GLQ-CRO)</td>\n",
       "    </tr>\n",
       "    <tr>\n",
       "      <th>33</th>\n",
       "      <td>West Suburban</td>\n",
       "      <td>GSE NORTH (S)</td>\n",
       "    </tr>\n",
       "    <tr>\n",
       "      <th>34</th>\n",
       "      <td>West Suburban</td>\n",
       "      <td>GSE SOUTH (S)</td>\n",
       "    </tr>\n",
       "    <tr>\n",
       "      <th>35</th>\n",
       "      <td>West Suburban</td>\n",
       "      <td>K'MARNOCK-AYR-GIRVAN</td>\n",
       "    </tr>\n",
       "    <tr>\n",
       "      <th>36</th>\n",
       "      <td>West Suburban</td>\n",
       "      <td>MOTHERWELL-CUMBERNAULD</td>\n",
       "    </tr>\n",
       "    <tr>\n",
       "      <th>37</th>\n",
       "      <td>West Suburban</td>\n",
       "      <td>RUTHERGLEN - COATBRIDGE (S)</td>\n",
       "    </tr>\n",
       "  </tbody>\n",
       "</table>\n",
       "</div>"
      ],
      "text/plain": [
       "     ServiceGroup             ServiceDescription\n",
       "0   East Suburban             EDINBURGH-DUNBLANE\n",
       "1   East Suburban                  FIFE CIRCULAR\n",
       "2   East Suburban       GLASGOW-SHOTTS-EDINBURGH\n",
       "3   East Suburban        GLC-SHS-EDB (S GLC-SHS)\n",
       "4   East Suburban        HAYMARKET-NORTH BERWICK\n",
       "5         eXpress      EDINBURGH-FALKIRK-GLASGOW\n",
       "6      Inter7City             ABERDEEN-INVERNESS\n",
       "7      Inter7City             EDINBURGH-ABERDEEN\n",
       "8      Inter7City      GLA/EDB - DUNDEE/ARBROATH\n",
       "9      Inter7City    GLASGOW/EDINBURGH-INVERNESS\n",
       "10     Inter7City          GLASGOW-ABERDEEN-DYCE\n",
       "11     Inter7City            MONTROSE - ABERDEEN\n",
       "12         Scenic            EDINBURGH CROSSRAIL\n",
       "13         Scenic     GLASGOW/CARLISLE-STRANRAER\n",
       "14         Scenic  GLASGOW-CARLISLE VIA DUMFRIES\n",
       "15         Scenic    GLQ-OBAN/FT WILLIAM/MALLAIG\n",
       "16         Scenic     INVERNESS-KYLE OF LOCHALSH\n",
       "17         Scenic          INVERNESS-WICK/THURSO\n",
       "18  West Suburban                    ARGYLE LINE\n",
       "19  West Suburban                ARGYLE LINE (S)\n",
       "20  West Suburban           EDINBURGH - BATHGATE\n",
       "21  West Suburban   GLASGOW NORTHERN SUBURBAN(S)\n",
       "22  West Suburban    GLASGOW-ARDROSSAN/LARGS (S)\n",
       "23  West Suburban                GLASGOW-AYR (S)\n",
       "24  West Suburban   GLASGOW-BARRHD-KILMARNOCK(S)\n",
       "25  West Suburban      GLASGOW-EAST KILBRIDE (S)\n",
       "26  West Suburban     GLASGOW-FALKIRK GRAHAMSTON\n",
       "27  West Suburban       GLASGOW-PAISLEY CANAL(S)\n",
       "28  West Suburban      GLASGOW-STIRLING-DUNBLANE\n",
       "29  West Suburban  GLASGOW-WEMYSS BAY/GOUROCK(S)\n",
       "30  West Suburban  GLQ/SPRINGBURN-CUMBERNAULD(S)\n",
       "31  West Suburban            GLQ-FKG (S GLQ-CRO)\n",
       "32  West Suburban        GLQ-STG-DBL (S GLQ-CRO)\n",
       "33  West Suburban                  GSE NORTH (S)\n",
       "34  West Suburban                  GSE SOUTH (S)\n",
       "35  West Suburban           K'MARNOCK-AYR-GIRVAN\n",
       "36  West Suburban         MOTHERWELL-CUMBERNAULD\n",
       "37  West Suburban    RUTHERGLEN - COATBRIDGE (S)"
      ]
     },
     "execution_count": 129,
     "metadata": {},
     "output_type": "execute_result"
    }
   ],
   "source": [
    "scotrail_groups = pd.read_csv('Datasets/scotrail_groups.csv')\n",
    "scotrail_groups = scotrail_groups.iloc[0:38,:]\n",
    "scotrail_groups"
   ]
  },
  {
   "cell_type": "code",
   "execution_count": 137,
   "id": "d227de16",
   "metadata": {},
   "outputs": [
    {
     "data": {
      "text/html": [
       "<div>\n",
       "<style scoped>\n",
       "    .dataframe tbody tr th:only-of-type {\n",
       "        vertical-align: middle;\n",
       "    }\n",
       "\n",
       "    .dataframe tbody tr th {\n",
       "        vertical-align: top;\n",
       "    }\n",
       "\n",
       "    .dataframe thead th {\n",
       "        text-align: right;\n",
       "    }\n",
       "</style>\n",
       "<table border=\"1\" class=\"dataframe\">\n",
       "  <thead>\n",
       "    <tr style=\"text-align: right;\">\n",
       "      <th></th>\n",
       "      <th>Station Name</th>\n",
       "      <th>2019-20 Entries &amp; Exits_TOTAL</th>\n",
       "      <th>2018-19 Entries &amp; Exits_TOTAL</th>\n",
       "      <th>% change</th>\n",
       "      <th>2019-20 Entries &amp; Exits_RANK</th>\n",
       "      <th>Local Authority</th>\n",
       "      <th>Constituency</th>\n",
       "      <th>NUTS2 Spatial Unit</th>\n",
       "      <th>Network Rail Region</th>\n",
       "      <th>Request stop</th>\n",
       "    </tr>\n",
       "  </thead>\n",
       "  <tbody>\n",
       "    <tr>\n",
       "      <th>0</th>\n",
       "      <td>Aberdeen</td>\n",
       "      <td>2497108</td>\n",
       "      <td>2616142</td>\n",
       "      <td>-4.5%</td>\n",
       "      <td>241</td>\n",
       "      <td>Aberdeen City</td>\n",
       "      <td>Aberdeen North</td>\n",
       "      <td>North Eastern Scotland</td>\n",
       "      <td>Scotland</td>\n",
       "      <td>NaN</td>\n",
       "    </tr>\n",
       "    <tr>\n",
       "      <th>1</th>\n",
       "      <td>Aberdour</td>\n",
       "      <td>126340</td>\n",
       "      <td>140048</td>\n",
       "      <td>-9.8%</td>\n",
       "      <td>1624</td>\n",
       "      <td>Fife</td>\n",
       "      <td>Kirkcaldy and Cowdenbeath</td>\n",
       "      <td>Eastern Scotland</td>\n",
       "      <td>Scotland</td>\n",
       "      <td>NaN</td>\n",
       "    </tr>\n",
       "    <tr>\n",
       "      <th>2</th>\n",
       "      <td>Achanalt</td>\n",
       "      <td>326</td>\n",
       "      <td>394</td>\n",
       "      <td>-17.3%</td>\n",
       "      <td>2541</td>\n",
       "      <td>Highland</td>\n",
       "      <td>Ross, Skye and Lochaber</td>\n",
       "      <td>Highlands and Islands</td>\n",
       "      <td>Scotland</td>\n",
       "      <td>Request stop</td>\n",
       "    </tr>\n",
       "    <tr>\n",
       "      <th>3</th>\n",
       "      <td>Achnasheen</td>\n",
       "      <td>3234</td>\n",
       "      <td>3284</td>\n",
       "      <td>-1.5%</td>\n",
       "      <td>2438</td>\n",
       "      <td>Highland</td>\n",
       "      <td>Ross, Skye and Lochaber</td>\n",
       "      <td>Highlands and Islands</td>\n",
       "      <td>Scotland</td>\n",
       "      <td>NaN</td>\n",
       "    </tr>\n",
       "    <tr>\n",
       "      <th>4</th>\n",
       "      <td>Achnashellach</td>\n",
       "      <td>836</td>\n",
       "      <td>820</td>\n",
       "      <td>2.0%</td>\n",
       "      <td>2519</td>\n",
       "      <td>Highland</td>\n",
       "      <td>Ross, Skye and Lochaber</td>\n",
       "      <td>Highlands and Islands</td>\n",
       "      <td>Scotland</td>\n",
       "      <td>Request stop</td>\n",
       "    </tr>\n",
       "    <tr>\n",
       "      <th>...</th>\n",
       "      <td>...</td>\n",
       "      <td>...</td>\n",
       "      <td>...</td>\n",
       "      <td>...</td>\n",
       "      <td>...</td>\n",
       "      <td>...</td>\n",
       "      <td>...</td>\n",
       "      <td>...</td>\n",
       "      <td>...</td>\n",
       "      <td>...</td>\n",
       "    </tr>\n",
       "    <tr>\n",
       "      <th>351</th>\n",
       "      <td>Wick</td>\n",
       "      <td>16664</td>\n",
       "      <td>17890</td>\n",
       "      <td>-6.9%</td>\n",
       "      <td>2264</td>\n",
       "      <td>Highland</td>\n",
       "      <td>Caithness, Sutherland and Easter Ross</td>\n",
       "      <td>Highlands and Islands</td>\n",
       "      <td>Scotland</td>\n",
       "      <td>NaN</td>\n",
       "    </tr>\n",
       "    <tr>\n",
       "      <th>352</th>\n",
       "      <td>Williamwood</td>\n",
       "      <td>272928</td>\n",
       "      <td>272540</td>\n",
       "      <td>0.1%</td>\n",
       "      <td>1238</td>\n",
       "      <td>East Renfrewshire</td>\n",
       "      <td>East Renfrewshire</td>\n",
       "      <td>West Central Scotland</td>\n",
       "      <td>Scotland</td>\n",
       "      <td>NaN</td>\n",
       "    </tr>\n",
       "    <tr>\n",
       "      <th>353</th>\n",
       "      <td>Wishaw</td>\n",
       "      <td>520564</td>\n",
       "      <td>547084</td>\n",
       "      <td>-4.8%</td>\n",
       "      <td>881</td>\n",
       "      <td>North Lanarkshire</td>\n",
       "      <td>Motherwell and Wishaw</td>\n",
       "      <td>West Central Scotland</td>\n",
       "      <td>Scotland</td>\n",
       "      <td>NaN</td>\n",
       "    </tr>\n",
       "    <tr>\n",
       "      <th>354</th>\n",
       "      <td>Woodhall</td>\n",
       "      <td>42996</td>\n",
       "      <td>45258</td>\n",
       "      <td>-5.0%</td>\n",
       "      <td>2046</td>\n",
       "      <td>Inverclyde</td>\n",
       "      <td>Inverclyde</td>\n",
       "      <td>West Central Scotland</td>\n",
       "      <td>Scotland</td>\n",
       "      <td>NaN</td>\n",
       "    </tr>\n",
       "    <tr>\n",
       "      <th>355</th>\n",
       "      <td>Yoker</td>\n",
       "      <td>175180</td>\n",
       "      <td>173104</td>\n",
       "      <td>1.2%</td>\n",
       "      <td>1472</td>\n",
       "      <td>West Dunbartonshire</td>\n",
       "      <td>West Dunbartonshire</td>\n",
       "      <td>West Central Scotland</td>\n",
       "      <td>Scotland</td>\n",
       "      <td>NaN</td>\n",
       "    </tr>\n",
       "  </tbody>\n",
       "</table>\n",
       "<p>356 rows × 10 columns</p>\n",
       "</div>"
      ],
      "text/plain": [
       "      Station Name 2019-20 Entries & Exits_TOTAL  \\\n",
       "0         Aberdeen                       2497108   \n",
       "1         Aberdour                        126340   \n",
       "2         Achanalt                           326   \n",
       "3       Achnasheen                          3234   \n",
       "4    Achnashellach                           836   \n",
       "..             ...                           ...   \n",
       "351           Wick                         16664   \n",
       "352    Williamwood                        272928   \n",
       "353         Wishaw                        520564   \n",
       "354       Woodhall                         42996   \n",
       "355          Yoker                        175180   \n",
       "\n",
       "    2018-19 Entries & Exits_TOTAL % change 2019-20 Entries & Exits_RANK  \\\n",
       "0                         2616142    -4.5%                          241   \n",
       "1                          140048    -9.8%                         1624   \n",
       "2                             394   -17.3%                         2541   \n",
       "3                            3284    -1.5%                         2438   \n",
       "4                             820     2.0%                         2519   \n",
       "..                            ...      ...                          ...   \n",
       "351                         17890    -6.9%                         2264   \n",
       "352                        272540     0.1%                         1238   \n",
       "353                        547084    -4.8%                          881   \n",
       "354                         45258    -5.0%                         2046   \n",
       "355                        173104     1.2%                         1472   \n",
       "\n",
       "         Local Authority                           Constituency  \\\n",
       "0          Aberdeen City                         Aberdeen North   \n",
       "1                   Fife              Kirkcaldy and Cowdenbeath   \n",
       "2               Highland                Ross, Skye and Lochaber   \n",
       "3               Highland                Ross, Skye and Lochaber   \n",
       "4               Highland                Ross, Skye and Lochaber   \n",
       "..                   ...                                    ...   \n",
       "351             Highland  Caithness, Sutherland and Easter Ross   \n",
       "352    East Renfrewshire                      East Renfrewshire   \n",
       "353    North Lanarkshire                  Motherwell and Wishaw   \n",
       "354           Inverclyde                             Inverclyde   \n",
       "355  West Dunbartonshire                    West Dunbartonshire   \n",
       "\n",
       "         NUTS2 Spatial Unit Network Rail Region  Request stop  \n",
       "0    North Eastern Scotland            Scotland           NaN  \n",
       "1          Eastern Scotland            Scotland           NaN  \n",
       "2     Highlands and Islands            Scotland  Request stop  \n",
       "3     Highlands and Islands            Scotland           NaN  \n",
       "4     Highlands and Islands            Scotland  Request stop  \n",
       "..                      ...                 ...           ...  \n",
       "351   Highlands and Islands            Scotland           NaN  \n",
       "352   West Central Scotland            Scotland           NaN  \n",
       "353   West Central Scotland            Scotland           NaN  \n",
       "354   West Central Scotland            Scotland           NaN  \n",
       "355   West Central Scotland            Scotland           NaN  \n",
       "\n",
       "[356 rows x 10 columns]"
      ]
     },
     "execution_count": 137,
     "metadata": {},
     "output_type": "execute_result"
    }
   ],
   "source": [
    "station_usage = pd.read_csv('Datasets/station_usage.csv')\n",
    "\n",
    "\n",
    "station_usage[\"2019-20 Entries & Exits_TOTAL\"] = station_usage[\"2019-20 Entries & Exits_TOTAL\"].replace(',','', regex=True)\n",
    "station_usage[\"2018-19 Entries & Exits_TOTAL\"] = station_usage[\"2018-19 Entries & Exits_TOTAL\"].replace(',','', regex=True)\n",
    "station_usage[\"2019-20 Entries & Exits_RANK\"] = station_usage[\"2019-20 Entries & Exits_RANK\"].replace(',','', regex=True)\n",
    "\n",
    "station_usage"
   ]
  },
  {
   "cell_type": "code",
   "execution_count": null,
   "id": "943db494",
   "metadata": {},
   "outputs": [],
   "source": [
    "station_usage[station_usage[\"Request stop\"] == 'Request stop']"
   ]
  }
 ],
 "metadata": {
  "kernelspec": {
   "display_name": "Python 3",
   "language": "python",
   "name": "python3"
  },
  "language_info": {
   "codemirror_mode": {
    "name": "ipython",
    "version": 3
   },
   "file_extension": ".py",
   "mimetype": "text/x-python",
   "name": "python",
   "nbconvert_exporter": "python",
   "pygments_lexer": "ipython3",
   "version": "3.8.8"
  }
 },
 "nbformat": 4,
 "nbformat_minor": 5
}
