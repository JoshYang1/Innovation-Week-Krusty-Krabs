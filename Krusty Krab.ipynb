{
 "cells": [
  {
   "cell_type": "code",
   "execution_count": 74,
   "id": "2fbd2292",
   "metadata": {},
   "outputs": [],
   "source": [
    "\n",
    "scotrail = pd.read_csv('Datasets/scotrail-journey-data-2016-2022.csv')"
   ]
  },
  {
   "cell_type": "code",
   "execution_count": 73,
   "id": "cfe30025",
   "metadata": {},
   "outputs": [],
   "source": [
    "import pandas as pd\n",
    "import matplotlib.pyplot as plt\n",
    "import numpy as np"
   ]
  },
  {
   "cell_type": "code",
   "execution_count": 75,
   "id": "a7fc0242",
   "metadata": {},
   "outputs": [
    {
     "data": {
      "text/html": [
       "<div>\n",
       "<style scoped>\n",
       "    .dataframe tbody tr th:only-of-type {\n",
       "        vertical-align: middle;\n",
       "    }\n",
       "\n",
       "    .dataframe tbody tr th {\n",
       "        vertical-align: top;\n",
       "    }\n",
       "\n",
       "    .dataframe thead th {\n",
       "        text-align: right;\n",
       "    }\n",
       "</style>\n",
       "<table border=\"1\" class=\"dataframe\">\n",
       "  <thead>\n",
       "    <tr style=\"text-align: right;\">\n",
       "      <th></th>\n",
       "      <th>CalendarYear</th>\n",
       "      <th>CalendarPeriod</th>\n",
       "      <th>CalendarWeek</th>\n",
       "      <th>ServiceGroup4</th>\n",
       "      <th>ProdGrp1</th>\n",
       "      <th>OpJourneys on selDates</th>\n",
       "      <th>OpMiles on selDates</th>\n",
       "      <th>Unnamed: 7</th>\n",
       "    </tr>\n",
       "  </thead>\n",
       "  <tbody>\n",
       "    <tr>\n",
       "      <th>0</th>\n",
       "      <td>2016</td>\n",
       "      <td>2016/P01</td>\n",
       "      <td>2016/W01</td>\n",
       "      <td>East Suburban</td>\n",
       "      <td>Commuter</td>\n",
       "      <td>68,625</td>\n",
       "      <td>1,163,739</td>\n",
       "      <td>NaN</td>\n",
       "    </tr>\n",
       "    <tr>\n",
       "      <th>1</th>\n",
       "      <td>2016</td>\n",
       "      <td>2016/P01</td>\n",
       "      <td>2016/W01</td>\n",
       "      <td>eXpress</td>\n",
       "      <td>Commuter</td>\n",
       "      <td>33,695</td>\n",
       "      <td>953,075</td>\n",
       "      <td>NaN</td>\n",
       "    </tr>\n",
       "    <tr>\n",
       "      <th>2</th>\n",
       "      <td>2016</td>\n",
       "      <td>2016/P01</td>\n",
       "      <td>2016/W01</td>\n",
       "      <td>Inter7City</td>\n",
       "      <td>Commuter</td>\n",
       "      <td>27,651</td>\n",
       "      <td>757,075</td>\n",
       "      <td>NaN</td>\n",
       "    </tr>\n",
       "    <tr>\n",
       "      <th>3</th>\n",
       "      <td>2016</td>\n",
       "      <td>2016/P01</td>\n",
       "      <td>2016/W01</td>\n",
       "      <td>Scenic</td>\n",
       "      <td>Commuter</td>\n",
       "      <td>9,806</td>\n",
       "      <td>180,878</td>\n",
       "      <td>NaN</td>\n",
       "    </tr>\n",
       "    <tr>\n",
       "      <th>4</th>\n",
       "      <td>2016</td>\n",
       "      <td>2016/P01</td>\n",
       "      <td>2016/W01</td>\n",
       "      <td>West Suburban</td>\n",
       "      <td>Commuter</td>\n",
       "      <td>302,609</td>\n",
       "      <td>3,303,754</td>\n",
       "      <td>NaN</td>\n",
       "    </tr>\n",
       "  </tbody>\n",
       "</table>\n",
       "</div>"
      ],
      "text/plain": [
       "   CalendarYear CalendarPeriod CalendarWeek  ServiceGroup4  ProdGrp1  \\\n",
       "0          2016       2016/P01     2016/W01  East Suburban  Commuter   \n",
       "1          2016       2016/P01     2016/W01        eXpress  Commuter   \n",
       "2          2016       2016/P01     2016/W01     Inter7City  Commuter   \n",
       "3          2016       2016/P01     2016/W01         Scenic  Commuter   \n",
       "4          2016       2016/P01     2016/W01  West Suburban  Commuter   \n",
       "\n",
       "  OpJourneys on selDates OpMiles on selDates  Unnamed: 7  \n",
       "0                 68,625           1,163,739         NaN  \n",
       "1                 33,695             953,075         NaN  \n",
       "2                 27,651             757,075         NaN  \n",
       "3                  9,806             180,878         NaN  \n",
       "4                302,609           3,303,754         NaN  "
      ]
     },
     "execution_count": 75,
     "metadata": {},
     "output_type": "execute_result"
    }
   ],
   "source": [
    "scotrail.head()"
   ]
  },
  {
   "cell_type": "code",
   "execution_count": 76,
   "id": "6745bfa3",
   "metadata": {},
   "outputs": [],
   "source": [
    "scotrail[\"OpJourneys on selDates\"] = scotrail[\"OpJourneys on selDates\"].replace(',','', regex=True)\n",
    "scotrail[\"OpJourneys on selDates\"] = scotrail[\"OpJourneys on selDates\"].astype('int')\n"
   ]
  },
  {
   "cell_type": "code",
   "execution_count": 77,
   "id": "58ccc8a0",
   "metadata": {},
   "outputs": [
    {
     "data": {
      "text/html": [
       "<div>\n",
       "<style scoped>\n",
       "    .dataframe tbody tr th:only-of-type {\n",
       "        vertical-align: middle;\n",
       "    }\n",
       "\n",
       "    .dataframe tbody tr th {\n",
       "        vertical-align: top;\n",
       "    }\n",
       "\n",
       "    .dataframe thead th {\n",
       "        text-align: right;\n",
       "    }\n",
       "</style>\n",
       "<table border=\"1\" class=\"dataframe\">\n",
       "  <thead>\n",
       "    <tr style=\"text-align: right;\">\n",
       "      <th></th>\n",
       "      <th>ServiceGroup4</th>\n",
       "      <th>OpJourneys on selDates</th>\n",
       "    </tr>\n",
       "  </thead>\n",
       "  <tbody>\n",
       "    <tr>\n",
       "      <th>0</th>\n",
       "      <td>East Suburban</td>\n",
       "      <td>53855635</td>\n",
       "    </tr>\n",
       "    <tr>\n",
       "      <th>1</th>\n",
       "      <td>Inter7City</td>\n",
       "      <td>44569490</td>\n",
       "    </tr>\n",
       "    <tr>\n",
       "      <th>2</th>\n",
       "      <td>Scenic</td>\n",
       "      <td>18157333</td>\n",
       "    </tr>\n",
       "    <tr>\n",
       "      <th>3</th>\n",
       "      <td>West Suburban</td>\n",
       "      <td>295816539</td>\n",
       "    </tr>\n",
       "    <tr>\n",
       "      <th>4</th>\n",
       "      <td>eXpress</td>\n",
       "      <td>33204829</td>\n",
       "    </tr>\n",
       "  </tbody>\n",
       "</table>\n",
       "</div>"
      ],
      "text/plain": [
       "   ServiceGroup4  OpJourneys on selDates\n",
       "0  East Suburban                53855635\n",
       "1     Inter7City                44569490\n",
       "2         Scenic                18157333\n",
       "3  West Suburban               295816539\n",
       "4        eXpress                33204829"
      ]
     },
     "execution_count": 77,
     "metadata": {},
     "output_type": "execute_result"
    }
   ],
   "source": [
    "df = scotrail.groupby(['ServiceGroup4'])['OpJourneys on selDates'].sum().reset_index()\n",
    "df"
   ]
  },
  {
   "cell_type": "code",
   "execution_count": 78,
   "id": "6871eddb",
   "metadata": {},
   "outputs": [],
   "source": [
    "journeys = df['OpJourneys on selDates']\n",
    "service = df['ServiceGroup4']"
   ]
  },
  {
   "cell_type": "code",
   "execution_count": 79,
   "id": "25ddd8b5",
   "metadata": {},
   "outputs": [
    {
     "data": {
      "text/plain": [
       "<BarContainer object of 5 artists>"
      ]
     },
     "execution_count": 79,
     "metadata": {},
     "output_type": "execute_result"
    },
    {
     "data": {
      "image/png": "[encoded data removed]",
      "text/plain": [
       "<Figure size 432x288 with 1 Axes>"
      ]
     },
     "metadata": {
      "needs_background": "light"
     },
     "output_type": "display_data"
    }
   ],
   "source": [
    "plt.bar(service, journeys, width=1, edgecolor=\"white\", linewidth=0.7)"
   ]
  },
  {
   "cell_type": "code",
   "execution_count": 69,
   "id": "888477d7",
   "metadata": {},
   "outputs": [
    {
     "data": {
      "text/plain": [
       "[(0.0, 8.0),\n",
       " [<matplotlib.axis.XTick at 0x21d86aca7f0>,\n",
       "  <matplotlib.axis.XTick at 0x21d86aca7c0>,\n",
       "  <matplotlib.axis.XTick at 0x21d86ab6220>,\n",
       "  <matplotlib.axis.XTick at 0x21d8688b6a0>,\n",
       "  <matplotlib.axis.XTick at 0x21d86addd30>,\n",
       "  <matplotlib.axis.XTick at 0x21d877434c0>,\n",
       "  <matplotlib.axis.XTick at 0x21d86ac6400>],\n",
       " (0.0, 8.0),\n",
       " [<matplotlib.axis.YTick at 0x21d86ad5640>,\n",
       "  <matplotlib.axis.YTick at 0x21d86acae80>,\n",
       "  <matplotlib.axis.YTick at 0x21d87743c10>,\n",
       "  <matplotlib.axis.YTick at 0x21d877438b0>,\n",
       "  <matplotlib.axis.YTick at 0x21d8694daf0>,\n",
       "  <matplotlib.axis.YTick at 0x21d87747700>,\n",
       "  <matplotlib.axis.YTick at 0x21d87747e50>]]"
      ]
     },
     "execution_count": 69,
     "metadata": {},
     "output_type": "execute_result"
    }
   ],
   "source": [
    "ax.set(xlim=(0, 8), xticks=np.arange(1, 8),\n",
    "       ylim=(0, 8), yticks=np.arange(1, 8))"
   ]
  }
 ],
 "metadata": {
  "kernelspec": {
   "display_name": "Python 3",
   "language": "python",
   "name": "python3"
  },
  "language_info": {
   "codemirror_mode": {
    "name": "ipython",
    "version": 3
   },
   "file_extension": ".py",
   "mimetype": "text/x-python",
   "name": "python",
   "nbconvert_exporter": "python",
   "pygments_lexer": "ipython3",
   "version": "3.8.8"
  }
 },
 "nbformat": 4,
 "nbformat_minor": 5
}
